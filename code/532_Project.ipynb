{
 "cells": [
  {
   "cell_type": "markdown",
   "metadata": {},
   "source": [
    "## Minist Dataset Classification using different machine learning methods"
   ]
  },
  {
   "cell_type": "markdown",
   "metadata": {},
   "source": [
    "Haotian Shi (hshi84@wisc.edu)"
   ]
  },
  {
   "cell_type": "markdown",
   "metadata": {},
   "source": [
    "### Table of Contents\n",
    "1. Introduction\n",
    "2. Datasets\n",
    "3. Investigated Algorithms \n",
    "4. Results and Discussion\n",
    "5. Conclusion "
   ]
  },
  {
   "cell_type": "markdown",
   "metadata": {},
   "source": [
    "# 1. Introduction #"
   ]
  },
  {
   "cell_type": "markdown",
   "metadata": {},
   "source": [
    "# 2. Datasets #"
   ]
  },
  {
   "cell_type": "markdown",
   "metadata": {},
   "source": [
    "The data processed in this project is MNIST dataset, which is a widely used dataset for classification algorithm from National Institute of Standards and Technology (NIST). The source link is http://yann.lecun.com/exdb/mnist/. The training set consists of handwritten numbers from 250 different people, of which 50% are high school students and 50% are from the Census Bureau staff. The test set is also handwritten digital data in the same proportion. The training data set contains 60,000 samples, and the test data set contains 10,000 samples. Each picture in the MNIST data set consists of 28 x 28 pixels, and each pixel is represented by a gray value. The 28 x 28 pixels are expanded into a one-dimensional row vector with 784 values. These rows are the feature rows in the first array of a image. The second array (labels) contains the corresponding target variable, which is the class label of the handwritten number (integer 0-9). \n",
    "\n",
    "Thus, the dimension of the training data ‘X’ is 60000 x 784, where each sample corresponds to a label from numbers 0-9. Similarly, the dimension for the test data ‘X’ is 10000 x 784. The classification problem is defined as: which number from 0 to 9 is most likely to be given a feature vector with 784 features.\n"
   ]
  },
  {
   "cell_type": "markdown",
   "metadata": {},
   "source": [
    "# 3. Investigated Algorithms #"
   ]
  },
  {
   "cell_type": "markdown",
   "metadata": {},
   "source": [
    "## 3.1 K-nearest Neighbor"
   ]
  },
  {
   "cell_type": "markdown",
   "metadata": {},
   "source": [
    "### 3.1.1 KNN Basic"
   ]
  },
  {
   "cell_type": "code",
   "execution_count": 1,
   "metadata": {},
   "outputs": [],
   "source": [
    "from mlxtend.data import loadlocal_mnist\n",
    "import platform\n",
    "import numpy as np"
   ]
  },
  {
   "cell_type": "code",
   "execution_count": 2,
   "metadata": {},
   "outputs": [],
   "source": [
    "X_train_o, y_train_o = loadlocal_mnist(images_path='train-images.idx3-ubyte',labels_path='train-labels.idx1-ubyte')\n",
    "X_test_o, y_test_o = loadlocal_mnist(images_path='t10k-images.idx3-ubyte',labels_path='t10k-labels.idx1-ubyte')\n"
   ]
  },
  {
   "cell_type": "code",
   "execution_count": 3,
   "metadata": {},
   "outputs": [
    {
     "name": "stdout",
     "output_type": "stream",
     "text": [
      "[[0 0 0 ... 0 0 0]\n",
      " [0 0 0 ... 0 0 0]\n",
      " [0 0 0 ... 0 0 0]\n",
      " ...\n",
      " [0 0 0 ... 0 0 0]\n",
      " [0 0 0 ... 0 0 0]\n",
      " [0 0 0 ... 0 0 0]]\n"
     ]
    }
   ],
   "source": [
    "X_train = X_train_o[0:2000]\n",
    "y_train = y_train_o[0:2000]\n",
    "X_test = X_test_o[0:400]\n",
    "y_test = y_test_o[0:400]\n",
    "print(X_train)"
   ]
  },
  {
   "cell_type": "code",
   "execution_count": 4,
   "metadata": {},
   "outputs": [
    {
     "name": "stdout",
     "output_type": "stream",
     "text": [
      "[5 0 4 ... 5 2 0]\n"
     ]
    },
    {
     "data": {
      "text/plain": [
       "(2000,)"
      ]
     },
     "execution_count": 4,
     "metadata": {},
     "output_type": "execute_result"
    }
   ],
   "source": [
    "print(y_train)\n",
    "y_train.shape"
   ]
  },
  {
   "cell_type": "code",
   "execution_count": 5,
   "metadata": {},
   "outputs": [],
   "source": [
    "# Normalization\n",
    "from sklearn.preprocessing import StandardScaler\n",
    "sc = StandardScaler()\n",
    "sc.fit(X_train)\n",
    "X_train_std = sc.transform(X_train)\n",
    "X_test_std = sc.transform(X_test)"
   ]
  },
  {
   "cell_type": "code",
   "execution_count": 131,
   "metadata": {},
   "outputs": [],
   "source": [
    "import numpy as np\n",
    "from collections import Counter\n",
    "\n",
    "from sklearn import datasets\n",
    "from sklearn.model_selection import train_test_split\n",
    "from sklearn.metrics import accuracy_score\n",
    "from sklearn.neighbors import KNeighborsClassifier  \n",
    "\n",
    "class KNNClassifier(object):\n",
    "    def __init__(self, k=3):\n",
    "        \"\"\"\n",
    "        The construction method has only one parameter k, the minimum value is 1, and the default is 3.\n",
    "        \"\"\"\n",
    "        assert k >= 1, \"k is integer and larger than 0\"\n",
    "        \n",
    "        self.k = k\n",
    "        self.X = None\n",
    "        self.y = None\n",
    " \n",
    "    def fit(self, X, y):\n",
    "        \"\"\"\n",
    "        Training.Assign membership. \n",
    "        At the same time, the following two points are required:\n",
    "         1. The dimensions of X and y must be consistent\n",
    "         2. k must be less than the number of training samples of X.\n",
    "\n",
    "        \"\"\"\n",
    "        assert X.shape[0] == y.shape[0], \"the shape of X and y must be match\"\n",
    "        assert self.k <= X.shape[0], \"k must be smaller than shape of X\"\n",
    "        \n",
    "        self.X = X\n",
    "        self.y = y\n",
    " \n",
    "    def _calc_euclidean_distance(self, array1, array2):\n",
    "        \"\"\"\n",
    "         Calculate the Euclidean distance between two samples array1 and array2\n",
    "         array1: the first sample, array type\n",
    "         array2: The second sample, array type\n",
    "        \n",
    "        \"\"\"\n",
    "        return np.linalg.norm(array1 - array2)\n",
    " \n",
    "    def _vote(self, topk_y):\n",
    "        \"\"\"\n",
    "        K selected label values, array type\n",
    "        \"\"\"\n",
    "        return Counter(topk_y).most_common()[0][0]\n",
    " \n",
    "    def predict(self, x):\n",
    "        \"\"\"\n",
    "        Prediction, traverse the test samples, for each sample, \n",
    "        calculate the distance from all the training samples, \n",
    "        and then select the nearest k labels to make a decision\n",
    "        \"\"\"\n",
    "        assert self.X is not None and self.y is not None , \"must training before predict\"\n",
    "        assert x.shape[1] == self.X.shape[1]\n",
    "        \n",
    "        y_pred = []\n",
    "        for i in range(len(x)):\n",
    "            distances = [self._calc_euclidean_distance(x[i], self.X[j]) for j in range(len(self.X))]\n",
    "            nearest_index = np.argsort(distances)\n",
    "            topk_index = nearest_index[:self.k]\n",
    "            y_pred.append(self._vote(self.y[topk_index]))\n",
    "        return np.array(y_pred)"
   ]
  },
  {
   "cell_type": "code",
   "execution_count": 132,
   "metadata": {},
   "outputs": [
    {
     "name": "stdout",
     "output_type": "stream",
     "text": [
      "The accuracy of the knn is 0.8525.\n"
     ]
    }
   ],
   "source": [
    "# Accuracy \n",
    "knn = KNNClassifier(10)\n",
    "knn.fit(X_train_std, y_train)\n",
    "y_predict = knn.predict(X_test_std)\n",
    "\n",
    "print(\"The accuracy of the knn is {}.\".format(accuracy_score(y_test, y_predict)))"
   ]
  },
  {
   "cell_type": "markdown",
   "metadata": {},
   "source": [
    "### 3.1.2 KNN Parameter tuning"
   ]
  },
  {
   "cell_type": "code",
   "execution_count": 135,
   "metadata": {},
   "outputs": [
    {
     "name": "stdout",
     "output_type": "stream",
     "text": [
      "When K is  3 , The accuracy of the knn is 0.83.\n",
      "When K is  4 , The accuracy of the knn is 0.8425.\n",
      "When K is  5 , The accuracy of the knn is 0.83.\n",
      "When K is  6 , The accuracy of the knn is 0.835.\n",
      "When K is  7 , The accuracy of the knn is 0.8425.\n",
      "When K is  8 , The accuracy of the knn is 0.84.\n",
      "When K is  9 , The accuracy of the knn is 0.84.\n",
      "When K is  10 , The accuracy of the knn is 0.8525.\n",
      "When K is  11 , The accuracy of the knn is 0.835.\n",
      "When K is  12 , The accuracy of the knn is 0.8275.\n",
      "When K is  13 , The accuracy of the knn is 0.8225.\n",
      "When K is  14 , The accuracy of the knn is 0.835.\n"
     ]
    }
   ],
   "source": [
    "Knum = []\n",
    "Acc = []\n",
    "for i in range(3, 15):\n",
    "    knn = KNNClassifier(i)\n",
    "    knn.fit(X_train_std, y_train)\n",
    "    y_predict = knn.predict(X_test_std)\n",
    "    print(\"When K is \",i,\", The accuracy of the knn is {}.\".format(accuracy_score(y_test, y_predict)))\n",
    "    Knum.append(i)\n",
    "    Acc.append(accuracy_score(y_test, y_predict))"
   ]
  },
  {
   "cell_type": "markdown",
   "metadata": {},
   "source": []
  },
  {
   "cell_type": "code",
   "execution_count": 136,
   "metadata": {},
   "outputs": [
    {
     "data": {
      "image/png": "[encoded data removed]",
      "text/plain": [
       "<Figure size 432x288 with 1 Axes>"
      ]
     },
     "metadata": {
      "needs_background": "light"
     },
     "output_type": "display_data"
    }
   ],
   "source": [
    "import math\n",
    "from matplotlib import pyplot as plt\n",
    "    \n",
    "plt.plot(Knum, Acc,'ro-',label='Test accuracy')    \n",
    "\n",
    "plt.xlabel('Number of K',fontsize = 15)\n",
    "plt.ylabel('Percentage',fontsize = 15)\n",
    "plt.show()"
   ]
  },
  {
   "cell_type": "markdown",
   "metadata": {},
   "source": [
    "Thus, the performance of KNN reaches best when number of the nearest neighbors K is 10."
   ]
  },
  {
   "cell_type": "markdown",
   "metadata": {},
   "source": [
    "### 3.1.2 KNN Cross-Validation"
   ]
  },
  {
   "cell_type": "code",
   "execution_count": 10,
   "metadata": {},
   "outputs": [],
   "source": [
    "n_train = len(X_train_std)\n",
    "k_fold = 8\n",
    "id_train = [[]] * k_fold\n",
    "id_val = [[]] * k_fold\n",
    "\n",
    "for m in range(k_fold):\n",
    "    id_val[m] = range(m, n_train, k_fold) # Indices of k_fold validation sets.\n",
    "    id_train[m] = np.setdiff1d(range(n_train), id_val[m])\n",
    "    "
   ]
  },
  {
   "cell_type": "code",
   "execution_count": 11,
   "metadata": {},
   "outputs": [
    {
     "name": "stdout",
     "output_type": "stream",
     "text": [
      "\n",
      " iteration 0\n",
      "Training confusion matrix:\n",
      " [[159   0   0   0   0   3   1   0   1   0]\n",
      " [  0 189   0   1   0   0   0   0   0   0]\n",
      " [  3  18 138   3   3   1   1   3   3   1]\n",
      " [  1   3   3 156   0   4   0   2   2   6]\n",
      " [  0  11   1   1 162   2   1   0   0   9]\n",
      " [  1   3   1   5   1 140   2   0   3   3]\n",
      " [  6   4   0   0   1   0 167   0   0   0]\n",
      " [  0  10   0   1   4   1   0 159   0  18]\n",
      " [  0   3   0   2   0  10   1   0 128   4]\n",
      " [  2   1   1   1  11   0   0   2   1 161]]\n",
      "Training accuracy: 0.8908571428571429\n",
      "Validation confusion matrix:\n",
      " [[22  2  0  1  1  0  1  0  0  0]\n",
      " [ 0 29  0  0  0  0  0  0  0  1]\n",
      " [ 0  5 14  0  0  0  0  5  0  0]\n",
      " [ 0  1  0 12  0  1  0  0  0  0]\n",
      " [ 1  3  0  0 22  0  0  0  0  1]\n",
      " [ 0  0  0  5  1 11  0  1  3  0]\n",
      " [ 1  1  0  0  2  1 17  0  0  0]\n",
      " [ 0  1  0  0  2  0  0 23  0  5]\n",
      " [ 0  5  1  1  0  0  0  0 17  0]\n",
      " [ 0  1  1  1  2  0  0  0  2 23]]\n",
      "Validation accuracy: 0.76\n",
      "\n",
      " iteration 1\n",
      "Training confusion matrix:\n",
      " [[159   1   0   0   0   3   2   0   0   0]\n",
      " [  0 191   0   1   0   0   0   0   0   1]\n",
      " [  3  18 134   2   3   2   3   8   3   1]\n",
      " [  1   3   1 150   0   7   0   1   0   5]\n",
      " [  1  12   2   1 155   3   1   0   1  13]\n",
      " [  3   2   1   8   2 131   1   0   6   4]\n",
      " [  6   4   0   0   1   1 160   0   0   0]\n",
      " [  0  10   0   1   7   1   0 163   0  17]\n",
      " [  0   8   0   2   0   8   1   0 117   5]\n",
      " [  2   2   2   2   8   0   0   4   3 165]]\n",
      "Training accuracy: 0.8714285714285714\n",
      "Validation confusion matrix:\n",
      " [[25  0  0  0  0  0  0  0  1  0]\n",
      " [ 0 27  0  0  0  0  0  0  0  0]\n",
      " [ 0  0 19  1  1  0  0  0  0  0]\n",
      " [ 0  0  1 20  0  1  0  0  1  0]\n",
      " [ 0  2  0  0 22  0  0  1  0  0]\n",
      " [ 0  0  0  0  0 22  0  0  0  0]\n",
      " [ 0  0  0  0  0  0 28  0  0  0]\n",
      " [ 0  0  0  0  0  0  0 24  0  1]\n",
      " [ 0  1  1  0  0  2  0  0 27  0]\n",
      " [ 0  1  0  0  0  0  0  2  0 19]]\n",
      "Validation accuracy: 0.932\n",
      "\n",
      " iteration 2\n",
      "Training confusion matrix:\n",
      " [[168   1   0   0   0   3   2   0   1   0]\n",
      " [  0 201   0   1   0   0   0   0   1   0]\n",
      " [  4  20 131   6   3   1   1   3   4   1]\n",
      " [  1   5   2 145   0   3   0   1   1   5]\n",
      " [  1  12   2   1 154   2   0   0   0  12]\n",
      " [  3   1   1   4   2 138   0   0   4   2]\n",
      " [  3   3   0   0   1   1 158   0   0   0]\n",
      " [  0   9   0   1   7   1   0 159   0  15]\n",
      " [  0   8   0   1   0   6   1   0 140   3]\n",
      " [  1   2   2   1   5   1   0   2   2 163]]\n",
      "Training accuracy: 0.8897142857142857\n",
      "Validation confusion matrix:\n",
      " [[16  0  0  0  0  0  0  0  0  0]\n",
      " [ 0 17  0  0  0  0  0  0  0  0]\n",
      " [ 1  3 16  1  0  0  1  1  1  0]\n",
      " [ 0  2  1 22  0  1  0  1  1  0]\n",
      " [ 0  2  0  0 24  0  1  0  0  3]\n",
      " [ 1  1  0  2  0 18  0  0  1  2]\n",
      " [ 3  1  0  0  1  0 29  0  0  0]\n",
      " [ 0  1  0  0  2  0  0 25  0  4]\n",
      " [ 1  0  0  0  0  1  0  0 10  1]\n",
      " [ 1  0  0  0  5  0  0  0  1 24]]\n",
      "Validation accuracy: 0.804\n",
      "\n",
      " iteration 3\n",
      "Training confusion matrix:\n",
      " [[159   1   0   0   0   2   2   0   1   0]\n",
      " [  0 183   0   1   0   0   0   0   1   0]\n",
      " [  3  17 134   3   2   1   3   7   4   1]\n",
      " [  1   2   2 149   0   4   0   1   1   6]\n",
      " [  1  11   2   1 162   1   1   1   0  11]\n",
      " [  2   2   1   8   2 134   1   0   5   4]\n",
      " [  5   4   0   0   1   1 168   0   0   0]\n",
      " [  0   9   0   1   5   0   0 156   0  17]\n",
      " [  0   8   0   3   0   5   1   0 140   2]\n",
      " [  2   1   2   2   9   0   0   1   3 163]]\n",
      "Training accuracy: 0.8845714285714286\n",
      "Validation confusion matrix:\n",
      " [[25  0  0  0  0  1  0  0  0  0]\n",
      " [ 0 35  0  0  0  0  0  0  0  0]\n",
      " [ 0  0 22  0  1  0  0  0  0  0]\n",
      " [ 0  0  0 24  0  1  0  0  0  0]\n",
      " [ 0  1  0  0 21  0  0  0  0  1]\n",
      " [ 0  0  0  0  0 20  0  0  1  0]\n",
      " [ 0  1  0  0  1  0 19  0  0  0]\n",
      " [ 0  2  0  0  2  1  0 29  0  2]\n",
      " [ 0  0  0  0  0  1  0  0 12  0]\n",
      " [ 0  1  0  0  0  0  0  1  0 25]]\n",
      "Validation accuracy: 0.928\n",
      "\n",
      " iteration 4\n",
      "Training confusion matrix:\n",
      " [[163   1   0   0   0   3   1   0   2   0]\n",
      " [  0 194   0   1   0   0   0   0   0   1]\n",
      " [  2  16 136   2   4   0   2   4   4   1]\n",
      " [  1   2   4 151   0   4   0   1   2   4]\n",
      " [  1  11   2   1 156   2   1   0   0   8]\n",
      " [  0   1   1   9   2 133   0   0   3   3]\n",
      " [  2   2   1   0   2   1 175   0   0   0]\n",
      " [  0   8   0   1   4   1   0 169   0  15]\n",
      " [  0   7   0   1   0   7   0   0 134   2]\n",
      " [  2   1   3   2   7   0   0   3   2 158]]\n",
      "Training accuracy: 0.8965714285714286\n",
      "Validation confusion matrix:\n",
      " [[21  0  0  0  0  0  0  0  0  0]\n",
      " [ 0 24  0  0  0  0  0  0  0  0]\n",
      " [ 1  7 13  3  0  1  1  1  0  0]\n",
      " [ 0  2  0 16  0  0  0  1  0  3]\n",
      " [ 0  1  0  0 29  0  0  0  0  2]\n",
      " [ 1  1  0  3  0 14  2  0  4  3]\n",
      " [ 0  1  0  0  0  0 16  0  0  0]\n",
      " [ 0  3  0  0  3  0  0 18  0  2]\n",
      " [ 0  1  0  1  0  0  1  0 16  2]\n",
      " [ 0  0  0  1  3  0  0  0  0 28]]\n",
      "Validation accuracy: 0.78\n",
      "\n",
      " iteration 5\n",
      "Training confusion matrix:\n",
      " [[156   1   0   0   0   3   1   0   1   0]\n",
      " [  0 193   0   1   0   0   0   0   0   1]\n",
      " [  3  18 130   3   3   1   2   7   3   1]\n",
      " [  1   1   2 144   0   6   0   1   1   5]\n",
      " [  1  10   1   1 159   0   1   1   0   8]\n",
      " [  3   3   1   7   1 138   0   0   5   5]\n",
      " [  6   3   0   0   1   1 163   0   0   0]\n",
      " [  0  10   0   1   5   0   0 172   0  16]\n",
      " [  0   6   0   2   0   5   1   0 128   5]\n",
      " [  2   2   2   2   9   0   0   1   3 170]]\n",
      "Training accuracy: 0.8874285714285715\n",
      "Validation confusion matrix:\n",
      " [[28  0  0  0  0  1  0  0  0  0]\n",
      " [ 0 25  0  0  0  0  0  0  0  0]\n",
      " [ 0  1 22  0  3  0  0  0  0  1]\n",
      " [ 0  2  0 25  0  0  0  0  0  3]\n",
      " [ 0  4  0  0 23  1  0  0  0  4]\n",
      " [ 0  0  0  0  0 17  0  0  0  0]\n",
      " [ 0  0  0  0  0  0 26  0  0  0]\n",
      " [ 0  1  0  0  1  0  0 17  0  1]\n",
      " [ 0  0  0  1  0  2  0  0 22  0]\n",
      " [ 0  0  0  0  0  0  0  1  0 18]]\n",
      "Validation accuracy: 0.892\n",
      "\n",
      " iteration 6\n",
      "Training confusion matrix:\n",
      " [[161   1   0   1   0   3   1   0   1   0]\n",
      " [  0 185   0   0   0   0   0   0   0   1]\n",
      " [  2  16 133   2   3   1   1   8   3   0]\n",
      " [  0   2   3 156   0   4   0   1   1   6]\n",
      " [  1  10   1   0 161   2   1   1   0  11]\n",
      " [  3   2   0   7   2 138   1   0   4   5]\n",
      " [  2   4   2   0   2   1 155   0   0   0]\n",
      " [  0  10   0   0   5   1   0 164   0  16]\n",
      " [  1   6   1   2   0   7   1   0 132   4]\n",
      " [  1   2   2   3   7   0   0   2   2 169]]\n",
      "Training accuracy: 0.888\n",
      "Validation confusion matrix:\n",
      " [[23  0  0  0  0  0  0  0  0  0]\n",
      " [ 0 33  0  1  0  0  0  0  0  0]\n",
      " [ 1  7 14  2  0  0  1  2  1  1]\n",
      " [ 1  1  1 15  0  0  0  0  0  0]\n",
      " [ 0  1  1  1 17  1  1  0  0  4]\n",
      " [ 0  0  1  2  0 14  1  0  0  0]\n",
      " [ 4  1  0  0  1  1 27  0  0  0]\n",
      " [ 0  2  0  1  2  0  0 19  0  4]\n",
      " [ 0  1  0  0  0  1  0  0 15  1]\n",
      " [ 1  0  1  0  1  0  0  0  0 19]]\n",
      "Validation accuracy: 0.784\n",
      "\n",
      " iteration 7\n",
      "Training confusion matrix:\n",
      " [[165   1   0   0   0   1   0   0   1   0]\n",
      " [  0 190   0   1   0   0   0   0   0   1]\n",
      " [  4  18 129   3   6   1   2   8   3   1]\n",
      " [  1   3   2 147   0   3   0   1   0   3]\n",
      " [  1  11   1   1 166   1   1   1   0  12]\n",
      " [  3   2   1   8   1 126   1   0   6   4]\n",
      " [  6   3   0   0   2   1 170   0   0   0]\n",
      " [  0   9   0   1   5   0   0 166   0  17]\n",
      " [  1   7   0   2   0   7   1   0 123   4]\n",
      " [  2   1   2   2   8   0   0   0   3 165]]\n",
      "Training accuracy: 0.884\n",
      "Validation confusion matrix:\n",
      " [[20  0  0  0  0  2  1  0  0  0]\n",
      " [ 0 28  0  0  0  0  0  0  0  0]\n",
      " [ 0  0 21  0  1  0  0  1  0  0]\n",
      " [ 0  0  1 25  0  3  0  0  1  1]\n",
      " [ 0  1  0  0 16  2  0  0  0  0]\n",
      " [ 0  1  0  0  1 26  0  0  0  0]\n",
      " [ 0  0  0  0  0  0 18  0  0  0]\n",
      " [ 0  1  0  0  1  0  0 23  0  1]\n",
      " [ 0  0  0  0  0  3  0  0 22  2]\n",
      " [ 0  0  0  0  0  0  0  2  0 25]]\n",
      "Validation accuracy: 0.896\n"
     ]
    }
   ],
   "source": [
    "CMat_train_best = None\n",
    "CMat_val_best = None\n",
    "acc_train_best = 0\n",
    "acc_val_best = 0\n",
    "model_best = None\n",
    "\n",
    "from sklearn.metrics import confusion_matrix\n",
    "# ConfusionMatrix = np.zeros((2,2), dtype=int)\n",
    "acc_val_best = 0\n",
    "for m in range(k_fold):\n",
    "    print(\"\\n iteration\", m)\n",
    "    X_train_cur = X_train_std[id_train[m]]\n",
    "    y_train_cur = y_train[id_train[m]]\n",
    "    X_val_cur = X_train_std[id_val[m]]\n",
    "    y_val_cur = y_train[id_val[m]]\n",
    "#     print(X_cur.shape, y_cur.shape, X_val_cur.shape, y_val_cur.shape)\n",
    "    \n",
    "#     svc_cur = svm.SVC(kernel='rbf',gamma='auto')\n",
    "#     svc_cur.fit(X_train_cur, y_train_cur)\n",
    "    \n",
    "    knn_cur = KNNClassifier(10)\n",
    "\n",
    "    knn_cur.fit(X_train_cur, y_train_cur)\n",
    "    \n",
    "    y_pred_train_cur = knn_cur.predict(X_train_cur)\n",
    "    y_pred_val_cur = knn_cur.predict(X_val_cur)\n",
    "    \n",
    "    CMat_train = confusion_matrix(y_train_cur, y_pred_train_cur)\n",
    "#     acc_train = np.sum(np.diag(CMat_train))/np.shape(X_train_cur)[0]\n",
    "    acc_train = accuracy_score(y_train_cur, y_pred_train_cur)\n",
    "    \n",
    "    CMat_val = confusion_matrix(y_val_cur, y_pred_val_cur)\n",
    "#     acc_val = np.sum(np.diag(CMat_val))/np.shape(X_val_cur)[0]\n",
    "    acc_val = accuracy_score(y_val_cur, y_pred_val_cur)\n",
    "    \n",
    "    if acc_val > acc_val_best:\n",
    "        acc_train_best = acc_train\n",
    "        acc_val_best = acc_val\n",
    "        model_best = knn_cur\n",
    "        CMat_train_best = CMat_train\n",
    "        CMat_val_best = CMat_val\n",
    "    \n",
    "    print(\"Training confusion matrix:\\n\", CMat_train)\n",
    "    print(\"Training accuracy:\", acc_train)\n",
    "    print(\"Validation confusion matrix:\\n\", CMat_val)\n",
    "    print(\"Validation accuracy:\", acc_val)"
   ]
  },
  {
   "cell_type": "code",
   "execution_count": 14,
   "metadata": {},
   "outputs": [
    {
     "name": "stdout",
     "output_type": "stream",
     "text": [
      "Training confusion matrix:\n",
      " [[165   1   0   0   0   1   0   0   1   0]\n",
      " [  0 190   0   1   0   0   0   0   0   1]\n",
      " [  4  18 129   3   6   1   2   8   3   1]\n",
      " [  1   3   2 147   0   3   0   1   0   3]\n",
      " [  1  11   1   1 166   1   1   1   0  12]\n",
      " [  3   2   1   8   1 126   1   0   6   4]\n",
      " [  6   3   0   0   2   1 170   0   0   0]\n",
      " [  0   9   0   1   5   0   0 166   0  17]\n",
      " [  1   7   0   2   0   7   1   0 123   4]\n",
      " [  2   1   2   2   8   0   0   0   3 165]]\n",
      "Training accuracy: 0.884\n",
      "Validation confusion matrix:\n",
      " [[20  0  0  0  0  2  1  0  0  0]\n",
      " [ 0 28  0  0  0  0  0  0  0  0]\n",
      " [ 0  0 21  0  1  0  0  1  0  0]\n",
      " [ 0  0  1 25  0  3  0  0  1  1]\n",
      " [ 0  1  0  0 16  2  0  0  0  0]\n",
      " [ 0  1  0  0  1 26  0  0  0  0]\n",
      " [ 0  0  0  0  0  0 18  0  0  0]\n",
      " [ 0  1  0  0  1  0  0 23  0  1]\n",
      " [ 0  0  0  0  0  3  0  0 22  2]\n",
      " [ 0  0  0  0  0  0  0  2  0 25]]\n",
      "Validation accuracy: 0.896\n"
     ]
    }
   ],
   "source": [
    "print(\"Training confusion matrix:\\n\", CMat_train)\n",
    "print(\"Training accuracy:\", acc_train)\n",
    "print(\"Validation confusion matrix:\\n\", CMat_val)\n",
    "print(\"Validation accuracy:\", acc_val)"
   ]
  },
  {
   "cell_type": "code",
   "execution_count": 12,
   "metadata": {},
   "outputs": [
    {
     "name": "stdout",
     "output_type": "stream",
     "text": [
      "The accuracy of the best knn model after cross-validation is 0.8575.\n"
     ]
    }
   ],
   "source": [
    "y_predict = model_best.predict(X_test_std)\n",
    "print(\"The accuracy of the best knn model after cross-validation is {}.\".format(accuracy_score(y_test, y_predict)))"
   ]
  },
  {
   "cell_type": "markdown",
   "metadata": {},
   "source": [
    "Although the highest validation accuracy has been imporved to 0.896. The accuracy for the test dataset still remains 0.8575."
   ]
  },
  {
   "cell_type": "markdown",
   "metadata": {},
   "source": [
    "##  3.2 Logistic Regression"
   ]
  },
  {
   "cell_type": "markdown",
   "metadata": {},
   "source": [
    "### 3.2.1 Logistic Regression Basic"
   ]
  },
  {
   "cell_type": "code",
   "execution_count": 89,
   "metadata": {},
   "outputs": [],
   "source": [
    "def sigmoid(z):\n",
    "    \n",
    "    s = 1.0 / (1.0 + np.exp(-z))\n",
    "    \n",
    "    return s"
   ]
  },
  {
   "cell_type": "code",
   "execution_count": 94,
   "metadata": {},
   "outputs": [],
   "source": [
    "def model(X_train, Y_train, X_test, Y_test, num_iterations=200, learning_rate=0.01, print_cost=False):\n",
    "\n",
    "\n",
    "    # Number of training set samples\n",
    "    m_train = X_train.shape[1]\n",
    "    # Number of samples in test set\n",
    "    m_test = X_test.shape[1]\n",
    "\n",
    "    # Initialize w and b to 0\n",
    "    w = np.zeros((X_train.shape[0], 1))\n",
    "    b = 0\n",
    "\n",
    "    # record the loss function in real time \n",
    "    costs = []\n",
    "    \n",
    "    # Perform num_iterations, each iteration calculates a gradient descent\n",
    "    for i in range(num_iterations):\n",
    "    \n",
    "        # find the linear part and activation function\n",
    "        A = sigmoid(np.dot(w.T, X_train) + b)\n",
    "        # Calculate loss function\n",
    "        cost = -1.0 / m_train * np.sum(Y_train * np.log(A) + (1 - Y_train) * np.log(1 - A))  \n",
    "        cost = np.squeeze(cost)\n",
    "    \n",
    "        # Find the gradient\n",
    "        dw = 1.0 / m_train * np.dot(X_train, (A - Y_train).T)\n",
    "        db = 1.0 / m_train * np.sum(A - Y_train)\n",
    "        \n",
    "        # Gradient descent\n",
    "        w = w - learning_rate * dw\n",
    "        b = b - learning_rate * db\n",
    "\n",
    "        # Record the loss\n",
    "        if i % 10 == 0:\n",
    "            costs.append(cost)\n",
    "                \n",
    "        if print_cost and i % 10 == 0:\n",
    "            print(\"Cost after iteration %i: %f\" % (i, cost))\n",
    "\n",
    "    w = w.reshape(-1, 1)\n",
    "    \n",
    "    # The prediction confidence on the training set predict y_hat\n",
    "    y_hat_train = sigmoid(np.dot(w.T, X_train) + b)\n",
    "    \n",
    "    # The prediction confidence on the test set y_hat\n",
    "    y_hat_test = sigmoid(np.dot(w.T, X_test) + b)\n",
    "    \n",
    "    # Predicted categories on the training set\n",
    "    y_prediction_train = np.zeros((1, m_train))\n",
    "    y_prediction_train[y_hat_train > 0.5] = 1\n",
    "    \n",
    "    # Predicted categories on the test set\n",
    "    y_prediction_test = np.zeros((1, m_test))\n",
    "    y_prediction_test[y_hat_test > 0.5] = 1\n",
    "\n",
    "    d = {\"costs\": costs,\n",
    "         \"Y_prediction_test\": y_prediction_test,\n",
    "         \"Y_prediction_train\": y_prediction_train,\n",
    "         \"Y_hat_test\": y_hat_test,\n",
    "         \"Y_hat_train\": y_hat_train,\n",
    "         \"w\": w,\n",
    "         \"b\": b,\n",
    "         \"learning_rate\" : learning_rate,\n",
    "         \"num_iterations\": num_iterations}\n",
    "    \n",
    "    return d"
   ]
  },
  {
   "cell_type": "code",
   "execution_count": 101,
   "metadata": {},
   "outputs": [
    {
     "name": "stdout",
     "output_type": "stream",
     "text": [
      "train_x shape: (2000, 784)\n",
      "train_y shape: (1, 2000)\n",
      "test_x shape: (400, 784)\n",
      "test_y shape: (1, 400)\n"
     ]
    },
    {
     "name": "stderr",
     "output_type": "stream",
     "text": [
      "D:\\SoftwareFiles\\Anaconda3\\lib\\site-packages\\ipykernel_launcher.py:22: RuntimeWarning: divide by zero encountered in log\n",
      "D:\\SoftwareFiles\\Anaconda3\\lib\\site-packages\\ipykernel_launcher.py:22: RuntimeWarning: invalid value encountered in multiply\n"
     ]
    },
    {
     "name": "stdout",
     "output_type": "stream",
     "text": [
      "0th classifier train accuracy: 99.95 %\n",
      "0th classifier test accuracy: 98.5 %\n",
      "1th classifier train accuracy: 99.35 %\n",
      "1th classifier test accuracy: 98.75 %\n",
      "2th classifier train accuracy: 99.2 %\n",
      "2th classifier test accuracy: 96.5 %\n",
      "3th classifier train accuracy: 84.8 %\n",
      "3th classifier test accuracy: 75.5 %\n",
      "4th classifier train accuracy: 98.5 %\n",
      "4th classifier test accuracy: 96.25 %\n",
      "5th classifier train accuracy: 98.75 %\n",
      "5th classifier test accuracy: 95.5 %\n",
      "6th classifier train accuracy: 100.0 %\n",
      "6th classifier test accuracy: 96.75 %\n",
      "7th classifier train accuracy: 99.65 %\n",
      "7th classifier test accuracy: 96.75 %\n",
      "8th classifier train accuracy: 85.55 %\n",
      "8th classifier test accuracy: 82.5 %\n",
      "9th classifier train accuracy: 94.25 %\n",
      "9th classifier test accuracy: 92.0 %\n",
      "1696 2000\n",
      "282 400\n",
      "Training accuracy: 0.848\n",
      "Testing accuracy: 0.705\n"
     ]
    }
   ],
   "source": [
    "from matplotlib import pyplot as plt\n",
    "\n",
    "m_train = X_train_std.shape[0]\n",
    "m_test = X_test_std.shape[0]\n",
    "# X_train = X_train.T\n",
    "# X_test = X_test.T\n",
    "y_train = y_train.reshape(1, -1)\n",
    "y_test = y_test.reshape(1, -1)\n",
    "print(\"train_x shape: \" + str(X_train_std.shape))\n",
    "print(\"train_y shape: \" + str(y_train.shape))\n",
    "print(\"test_x shape: \" + str(X_test_std.shape))\n",
    "print(\"test_y shape: \" + str(y_test.shape))\n",
    "\n",
    "y_hat_test = []\n",
    "y_hat_train = []\n",
    "\n",
    "# Decompose into 10 binary classification tasks\n",
    "for i in range(10):\n",
    "    y_tr = np.zeros(y_train.shape)\n",
    "    y_te = np.zeros(y_test.shape)\n",
    "    y_tr[y_train == i] = 1\n",
    "    y_te[y_test == i] = 1\n",
    "    d = model(X_train.T, y_tr, X_test.T, y_te, num_iterations=200, learning_rate=0.5, print_cost=False)\n",
    "    y_hat_test.append(d[\"Y_hat_test\"])\n",
    "    y_hat_train.append(d[\"Y_hat_train\"])\n",
    "\n",
    "    # Print train/test Errors\n",
    "    print(str(i) + \"th classifier train accuracy: {} %\".format(100 - np.mean(np.abs(d[\"Y_prediction_train\"] - y_tr)) * 100))\n",
    "    print(str(i) + \"th classifier test accuracy: {} %\".format(100 - np.mean(np.abs(d[\"Y_prediction_test\"] - y_te)) * 100))\n",
    "\n",
    "y_hat_test = np.array(y_hat_test)\n",
    "y_hat_train = np.array(y_hat_train)\n",
    "\n",
    "# y_hat_test stores the confidence of each example in the positive class of ten classifiers\n",
    "# For each example, select the category with the highest confidence, which is the category the example belongs to\n",
    "y_pred_test = np.argmax(y_hat_test, axis=0)\n",
    "y_pred_train = np.argmax(y_hat_train, axis=0)\n",
    "\n",
    "score_train = 1.0 * np.sum(y_pred_train == y_train) / m_train\n",
    "score_test = 1.0 * np.sum(y_pred_test == y_test) / m_test\n",
    "\n",
    "print(np.sum(y_pred_train == y_train), m_train)\n",
    "print(np.sum(y_pred_test == y_test), m_test)\n",
    "\n",
    "print(\"Training accuracy: \" + str(score_train))\n",
    "print(\"Testing accuracy: \" + str(score_test))"
   ]
  },
  {
   "cell_type": "markdown",
   "metadata": {},
   "source": [
    "### 3.2.2 Logistic Regression Parameter tuning"
   ]
  },
  {
   "cell_type": "markdown",
   "metadata": {},
   "source": [
    "### Learning rate"
   ]
  },
  {
   "cell_type": "markdown",
   "metadata": {},
   "source": [
    "Firstly, I will do the experiment to explore the impact of learning rate for the performance of logistic regression."
   ]
  },
  {
   "cell_type": "code",
   "execution_count": 111,
   "metadata": {},
   "outputs": [],
   "source": [
    "LearningRate = [0.000001, 0.00001, 0.0001, 0.001, 0.01, 0.1, 0.5, 0.8]"
   ]
  },
  {
   "cell_type": "code",
   "execution_count": 114,
   "metadata": {},
   "outputs": [
    {
     "name": "stdout",
     "output_type": "stream",
     "text": [
      "Learning rate is:  1e-06\n",
      "0th classifier train accuracy: 98.4 %\n",
      "0th classifier test accuracy: 98.5 %\n",
      "1th classifier train accuracy: 98.5 %\n",
      "1th classifier test accuracy: 97.75 %\n",
      "2th classifier train accuracy: 95.8 %\n",
      "2th classifier test accuracy: 95.25 %\n",
      "3th classifier train accuracy: 96.15 %\n",
      "3th classifier test accuracy: 95.25 %\n",
      "4th classifier train accuracy: 96.55 %\n",
      "4th classifier test accuracy: 95.75 %\n",
      "5th classifier train accuracy: 93.9 %\n",
      "5th classifier test accuracy: 92.5 %\n",
      "6th classifier train accuracy: 97.85 %\n",
      "6th classifier test accuracy: 97.0 %\n",
      "7th classifier train accuracy: 97.15 %\n",
      "7th classifier test accuracy: 95.25 %\n",
      "8th classifier train accuracy: 94.65 %\n",
      "8th classifier test accuracy: 94.25 %\n",
      "9th classifier train accuracy: 94.35 %\n",
      "9th classifier test accuracy: 93.0 %\n",
      "1741 2000\n",
      "332 400\n",
      "When learning rate is:  1e-06 ,the training accuracy is: 0.8705\n",
      "When learning rate is:  1e-06 ,the testing accuracy is: 0.83\n",
      "Learning rate is:  1e-05\n",
      "0th classifier train accuracy: 99.5 %\n",
      "0th classifier test accuracy: 99.5 %\n",
      "1th classifier train accuracy: 99.05 %\n",
      "1th classifier test accuracy: 98.75 %\n",
      "2th classifier train accuracy: 98.0 %\n",
      "2th classifier test accuracy: 97.0 %\n",
      "3th classifier train accuracy: 97.6 %\n",
      "3th classifier test accuracy: 95.75 %\n",
      "4th classifier train accuracy: 98.1 %\n",
      "4th classifier test accuracy: 96.75 %\n",
      "5th classifier train accuracy: 97.6 %\n",
      "5th classifier test accuracy: 95.25 %\n",
      "6th classifier train accuracy: 99.05 %\n",
      "6th classifier test accuracy: 97.5 %\n",
      "7th classifier train accuracy: 98.3 %\n",
      "7th classifier test accuracy: 96.25 %\n",
      "8th classifier train accuracy: 96.6 %\n",
      "8th classifier test accuracy: 95.5 %\n",
      "9th classifier train accuracy: 96.45 %\n",
      "9th classifier test accuracy: 95.0 %\n",
      "1848 2000\n",
      "360 400\n",
      "When learning rate is:  1e-05 ,the training accuracy is: 0.924\n",
      "When learning rate is:  1e-05 ,the testing accuracy is: 0.9\n",
      "Learning rate is:  0.0001\n"
     ]
    },
    {
     "name": "stderr",
     "output_type": "stream",
     "text": [
      "D:\\SoftwareFiles\\Anaconda3\\lib\\site-packages\\ipykernel_launcher.py:22: RuntimeWarning: divide by zero encountered in log\n",
      "D:\\SoftwareFiles\\Anaconda3\\lib\\site-packages\\ipykernel_launcher.py:22: RuntimeWarning: invalid value encountered in multiply\n"
     ]
    },
    {
     "name": "stdout",
     "output_type": "stream",
     "text": [
      "0th classifier train accuracy: 99.9 %\n",
      "0th classifier test accuracy: 99.5 %\n",
      "1th classifier train accuracy: 99.7 %\n",
      "1th classifier test accuracy: 99.0 %\n",
      "2th classifier train accuracy: 99.1 %\n",
      "2th classifier test accuracy: 96.75 %\n",
      "3th classifier train accuracy: 98.75 %\n",
      "3th classifier test accuracy: 95.0 %\n",
      "4th classifier train accuracy: 99.3 %\n",
      "4th classifier test accuracy: 97.25 %\n",
      "5th classifier train accuracy: 97.9 %\n",
      "5th classifier test accuracy: 95.0 %\n",
      "6th classifier train accuracy: 100.0 %\n",
      "6th classifier test accuracy: 97.5 %\n",
      "7th classifier train accuracy: 99.6 %\n",
      "7th classifier test accuracy: 96.5 %\n",
      "8th classifier train accuracy: 92.1 %\n",
      "8th classifier test accuracy: 93.5 %\n",
      "9th classifier train accuracy: 97.25 %\n",
      "9th classifier test accuracy: 95.0 %\n",
      "1813 2000\n",
      "333 400\n",
      "When learning rate is:  0.0001 ,the training accuracy is: 0.9065\n",
      "When learning rate is:  0.0001 ,the testing accuracy is: 0.8325\n",
      "Learning rate is:  0.001\n",
      "0th classifier train accuracy: 99.95 %\n",
      "0th classifier test accuracy: 98.75 %\n",
      "1th classifier train accuracy: 99.6 %\n",
      "1th classifier test accuracy: 98.5 %\n",
      "2th classifier train accuracy: 99.25 %\n",
      "2th classifier test accuracy: 97.0 %\n",
      "3th classifier train accuracy: 98.3 %\n",
      "3th classifier test accuracy: 93.0 %\n",
      "4th classifier train accuracy: 98.7 %\n",
      "4th classifier test accuracy: 97.0 %\n",
      "5th classifier train accuracy: 98.7 %\n",
      "5th classifier test accuracy: 94.25 %\n",
      "6th classifier train accuracy: 100.0 %\n",
      "6th classifier test accuracy: 96.75 %\n",
      "7th classifier train accuracy: 99.9 %\n",
      "7th classifier test accuracy: 96.75 %\n",
      "8th classifier train accuracy: 93.05 %\n",
      "8th classifier test accuracy: 89.25 %\n",
      "9th classifier train accuracy: 90.3 %\n",
      "9th classifier test accuracy: 87.75 %\n",
      "1876 2000\n",
      "342 400\n",
      "When learning rate is:  0.001 ,the training accuracy is: 0.938\n",
      "When learning rate is:  0.001 ,the testing accuracy is: 0.855\n",
      "Learning rate is:  0.01\n",
      "0th classifier train accuracy: 99.9 %\n",
      "0th classifier test accuracy: 99.0 %\n",
      "1th classifier train accuracy: 99.6 %\n",
      "1th classifier test accuracy: 98.5 %\n",
      "2th classifier train accuracy: 98.75 %\n",
      "2th classifier test accuracy: 95.75 %\n",
      "3th classifier train accuracy: 98.6 %\n",
      "3th classifier test accuracy: 96.25 %\n",
      "4th classifier train accuracy: 99.2 %\n",
      "4th classifier test accuracy: 96.75 %\n",
      "5th classifier train accuracy: 95.3 %\n",
      "5th classifier test accuracy: 90.5 %\n",
      "6th classifier train accuracy: 100.0 %\n",
      "6th classifier test accuracy: 96.75 %\n",
      "7th classifier train accuracy: 99.05 %\n",
      "7th classifier test accuracy: 97.0 %\n",
      "8th classifier train accuracy: 95.7 %\n",
      "8th classifier test accuracy: 92.25 %\n",
      "9th classifier train accuracy: 72.65 %\n",
      "9th classifier test accuracy: 70.25 %\n",
      "1881 2000\n",
      "333 400\n",
      "When learning rate is:  0.01 ,the training accuracy is: 0.9405\n",
      "When learning rate is:  0.01 ,the testing accuracy is: 0.8325\n",
      "Learning rate is:  0.1\n",
      "0th classifier train accuracy: 99.95 %\n",
      "0th classifier test accuracy: 98.75 %\n",
      "1th classifier train accuracy: 99.7 %\n",
      "1th classifier test accuracy: 98.75 %\n",
      "2th classifier train accuracy: 99.05 %\n",
      "2th classifier test accuracy: 97.25 %\n",
      "3th classifier train accuracy: 94.5 %\n",
      "3th classifier test accuracy: 88.75 %\n",
      "4th classifier train accuracy: 98.0 %\n",
      "4th classifier test accuracy: 96.0 %\n",
      "5th classifier train accuracy: 98.65 %\n",
      "5th classifier test accuracy: 95.5 %\n",
      "6th classifier train accuracy: 100.0 %\n",
      "6th classifier test accuracy: 96.75 %\n",
      "7th classifier train accuracy: 99.9 %\n",
      "7th classifier test accuracy: 96.5 %\n",
      "8th classifier train accuracy: 91.95 %\n",
      "8th classifier test accuracy: 93.5 %\n",
      "9th classifier train accuracy: 97.2 %\n",
      "9th classifier test accuracy: 95.25 %\n",
      "1694 2000\n",
      "301 400\n",
      "When learning rate is:  0.1 ,the training accuracy is: 0.847\n",
      "When learning rate is:  0.1 ,the testing accuracy is: 0.7525\n",
      "Learning rate is:  0.5\n",
      "0th classifier train accuracy: 99.95 %\n",
      "0th classifier test accuracy: 98.5 %\n",
      "1th classifier train accuracy: 99.35 %\n",
      "1th classifier test accuracy: 98.75 %\n",
      "2th classifier train accuracy: 99.2 %\n",
      "2th classifier test accuracy: 96.5 %\n",
      "3th classifier train accuracy: 84.8 %\n",
      "3th classifier test accuracy: 75.5 %\n",
      "4th classifier train accuracy: 98.5 %\n",
      "4th classifier test accuracy: 96.25 %\n",
      "5th classifier train accuracy: 98.75 %\n",
      "5th classifier test accuracy: 95.5 %\n",
      "6th classifier train accuracy: 100.0 %\n",
      "6th classifier test accuracy: 96.75 %\n",
      "7th classifier train accuracy: 99.65 %\n",
      "7th classifier test accuracy: 96.75 %\n",
      "8th classifier train accuracy: 85.55 %\n",
      "8th classifier test accuracy: 82.5 %\n",
      "9th classifier train accuracy: 94.25 %\n",
      "9th classifier test accuracy: 92.0 %\n",
      "1696 2000\n",
      "282 400\n",
      "When learning rate is:  0.5 ,the training accuracy is: 0.848\n",
      "When learning rate is:  0.5 ,the testing accuracy is: 0.705\n",
      "Learning rate is:  0.8\n",
      "0th classifier train accuracy: 99.0 %\n",
      "0th classifier test accuracy: 98.75 %\n",
      "1th classifier train accuracy: 99.1 %\n",
      "1th classifier test accuracy: 98.5 %\n",
      "2th classifier train accuracy: 90.25 %\n",
      "2th classifier test accuracy: 89.0 %\n",
      "3th classifier train accuracy: 98.25 %\n",
      "3th classifier test accuracy: 94.5 %\n",
      "4th classifier train accuracy: 97.95 %\n",
      "4th classifier test accuracy: 96.0 %\n",
      "5th classifier train accuracy: 89.65 %\n",
      "5th classifier test accuracy: 85.25 %\n",
      "6th classifier train accuracy: 100.0 %\n",
      "6th classifier test accuracy: 96.75 %\n",
      "7th classifier train accuracy: 99.8 %\n",
      "7th classifier test accuracy: 96.75 %\n",
      "8th classifier train accuracy: 96.15 %\n",
      "8th classifier test accuracy: 95.25 %\n",
      "9th classifier train accuracy: 81.25 %\n",
      "9th classifier test accuracy: 77.75 %\n",
      "1565 2000\n",
      "279 400\n",
      "When learning rate is:  0.8 ,the training accuracy is: 0.7825\n",
      "When learning rate is:  0.8 ,the testing accuracy is: 0.6975\n"
     ]
    }
   ],
   "source": [
    "\n",
    "testing_accuracy = []\n",
    "training_accuracy = []\n",
    "\n",
    "for l in range(len(LearningRate)):\n",
    "    y_hat_test = []\n",
    "    y_hat_train = []\n",
    "    \n",
    "    print(\"Learning rate is: \", LearningRate[l])\n",
    "    for i in range(10):\n",
    "        y_tr = np.zeros(y_train.shape)\n",
    "        y_te = np.zeros(y_test.shape)\n",
    "        y_tr[y_train == i] = 1\n",
    "        y_te[y_test == i] = 1\n",
    "        d = model(X_train.T, y_tr, X_test.T, y_te, num_iterations=200, learning_rate=LearningRate[l], print_cost=False)\n",
    "        y_hat_test.append(d[\"Y_hat_test\"])\n",
    "        y_hat_train.append(d[\"Y_hat_train\"])\n",
    "\n",
    "        # Print train/test Errors\n",
    "\n",
    "        print(str(i) + \"th classifier train accuracy: {} %\".format(100 - np.mean(np.abs(d[\"Y_prediction_train\"] - y_tr)) * 100))\n",
    "        print(str(i) + \"th classifier test accuracy: {} %\".format(100 - np.mean(np.abs(d[\"Y_prediction_test\"] - y_te)) * 100))\n",
    "\n",
    "    y_hat_test = np.array(y_hat_test)\n",
    "    y_hat_train = np.array(y_hat_train)\n",
    "\n",
    "    # y_hat_test stores the confidence of each example in the positive class of ten classifiers\n",
    "    # For each example, select the category with the highest confidence, which is the category the example belongs to\n",
    "    y_pred_test = np.argmax(y_hat_test, axis=0)\n",
    "    y_pred_train = np.argmax(y_hat_train, axis=0)\n",
    "\n",
    "    score_train = 1.0 * np.sum(y_pred_train == y_train) / m_train\n",
    "    score_test = 1.0 * np.sum(y_pred_test == y_test) / m_test\n",
    "\n",
    "    print(np.sum(y_pred_train == y_train), m_train)\n",
    "    print(np.sum(y_pred_test == y_test), m_test)\n",
    "\n",
    "    print(\"When learning rate is: \", LearningRate[l], \",the training accuracy is: \" + str(score_train))\n",
    "    print(\"When learning rate is: \", LearningRate[l], \",the testing accuracy is: \" + str(score_test))\n",
    "    testing_accuracy.append(score_test)\n",
    "    training_accuracy.append(score_train)\n",
    "    # Decompose into 10 binary classification tasks\n"
   ]
  },
  {
   "cell_type": "code",
   "execution_count": 120,
   "metadata": {},
   "outputs": [
    {
     "data": {
      "image/png": "[encoded data removed]",
      "text/plain": [
       "<Figure size 432x288 with 1 Axes>"
      ]
     },
     "metadata": {
      "needs_background": "light"
     },
     "output_type": "display_data"
    }
   ],
   "source": [
    "import math\n",
    "LearningRate_log = []\n",
    "for i in range(len(LearningRate)):\n",
    "    LearningRate_log.append(math.log(LearningRate[i]))\n",
    "    \n",
    "plt.plot(LearningRate_log, testing_accuracy,'ro-',label='Test accuracy')    \n",
    "plt.plot(LearningRate_log, training_accuracy,'bo-',label='Training accuracy')    \n",
    "\n",
    "\n",
    "plt.xlabel('log(LearningRate)',fontsize = 15)\n",
    "plt.ylabel('Percentage',fontsize = 15)\n",
    "plt.show()"
   ]
  },
  {
   "cell_type": "markdown",
   "metadata": {},
   "source": [
    "Thus, the best learning rate for training is 0.00001, which leads to the highest testing accuracy. "
   ]
  },
  {
   "cell_type": "markdown",
   "metadata": {},
   "source": [
    "### number of iterations for gradient descent"
   ]
  },
  {
   "cell_type": "markdown",
   "metadata": {},
   "source": [
    "Next, I will do the experiment to explore the impact of number of iterations for gradient descnet on the training performance."
   ]
  },
  {
   "cell_type": "code",
   "execution_count": 121,
   "metadata": {},
   "outputs": [],
   "source": [
    "number_of_iterations = [10, 100, 200, 500, 1000, 2000]"
   ]
  },
  {
   "cell_type": "code",
   "execution_count": 123,
   "metadata": {},
   "outputs": [
    {
     "name": "stdout",
     "output_type": "stream",
     "text": [
      "The number of iterations is:  10\n",
      "0th classifier train accuracy: 97.75 %\n",
      "0th classifier test accuracy: 98.25 %\n",
      "1th classifier train accuracy: 97.95 %\n",
      "1th classifier test accuracy: 97.25 %\n",
      "2th classifier train accuracy: 94.35 %\n",
      "2th classifier test accuracy: 94.25 %\n",
      "3th classifier train accuracy: 95.5 %\n",
      "3th classifier test accuracy: 94.5 %\n",
      "4th classifier train accuracy: 95.95 %\n",
      "4th classifier test accuracy: 95.25 %\n",
      "5th classifier train accuracy: 92.05 %\n",
      "5th classifier test accuracy: 90.5 %\n",
      "6th classifier train accuracy: 97.65 %\n",
      "6th classifier test accuracy: 96.25 %\n",
      "7th classifier train accuracy: 96.85 %\n",
      "7th classifier test accuracy: 95.0 %\n",
      "8th classifier train accuracy: 93.3 %\n",
      "8th classifier test accuracy: 93.75 %\n",
      "9th classifier train accuracy: 93.25 %\n",
      "9th classifier test accuracy: 91.5 %\n",
      "1693 2000\n",
      "322 400\n",
      "When the number of interations is:  10 ,the training accuracy is: 0.8465\n",
      "When the number of interations is:  10 ,the testing accuracy is: 0.805\n",
      "The number of iterations is:  100\n",
      "0th classifier train accuracy: 99.15 %\n",
      "0th classifier test accuracy: 99.0 %\n",
      "1th classifier train accuracy: 98.95 %\n",
      "1th classifier test accuracy: 98.25 %\n",
      "2th classifier train accuracy: 97.5 %\n",
      "2th classifier test accuracy: 96.5 %\n",
      "3th classifier train accuracy: 97.35 %\n",
      "3th classifier test accuracy: 95.5 %\n",
      "4th classifier train accuracy: 97.7 %\n",
      "4th classifier test accuracy: 96.5 %\n",
      "5th classifier train accuracy: 96.65 %\n",
      "5th classifier test accuracy: 95.5 %\n",
      "6th classifier train accuracy: 98.8 %\n",
      "6th classifier test accuracy: 97.25 %\n",
      "7th classifier train accuracy: 97.9 %\n",
      "7th classifier test accuracy: 96.25 %\n",
      "8th classifier train accuracy: 96.15 %\n",
      "8th classifier test accuracy: 95.5 %\n",
      "9th classifier train accuracy: 95.85 %\n",
      "9th classifier test accuracy: 94.75 %\n",
      "1818 2000\n",
      "355 400\n",
      "When the number of interations is:  100 ,the training accuracy is: 0.909\n",
      "When the number of interations is:  100 ,the testing accuracy is: 0.8875\n",
      "The number of iterations is:  200\n",
      "0th classifier train accuracy: 99.5 %\n",
      "0th classifier test accuracy: 99.5 %\n",
      "1th classifier train accuracy: 99.05 %\n",
      "1th classifier test accuracy: 98.75 %\n",
      "2th classifier train accuracy: 98.0 %\n",
      "2th classifier test accuracy: 97.0 %\n",
      "3th classifier train accuracy: 97.6 %\n",
      "3th classifier test accuracy: 95.75 %\n",
      "4th classifier train accuracy: 98.1 %\n",
      "4th classifier test accuracy: 96.75 %\n",
      "5th classifier train accuracy: 97.6 %\n",
      "5th classifier test accuracy: 95.25 %\n",
      "6th classifier train accuracy: 99.05 %\n",
      "6th classifier test accuracy: 97.5 %\n",
      "7th classifier train accuracy: 98.3 %\n",
      "7th classifier test accuracy: 96.25 %\n",
      "8th classifier train accuracy: 96.6 %\n",
      "8th classifier test accuracy: 95.5 %\n",
      "9th classifier train accuracy: 96.45 %\n",
      "9th classifier test accuracy: 95.0 %\n",
      "1848 2000\n",
      "360 400\n",
      "When the number of interations is:  200 ,the training accuracy is: 0.924\n",
      "When the number of interations is:  200 ,the testing accuracy is: 0.9\n",
      "The number of iterations is:  500\n",
      "0th classifier train accuracy: 99.7 %\n",
      "0th classifier test accuracy: 99.75 %\n",
      "1th classifier train accuracy: 99.35 %\n",
      "1th classifier test accuracy: 98.75 %\n",
      "2th classifier train accuracy: 98.6 %\n",
      "2th classifier test accuracy: 97.25 %\n",
      "3th classifier train accuracy: 98.2 %\n",
      "3th classifier test accuracy: 96.25 %\n",
      "4th classifier train accuracy: 98.45 %\n",
      "4th classifier test accuracy: 97.0 %\n",
      "5th classifier train accuracy: 98.25 %\n",
      "5th classifier test accuracy: 95.5 %\n",
      "6th classifier train accuracy: 99.45 %\n",
      "6th classifier test accuracy: 96.75 %\n",
      "7th classifier train accuracy: 98.8 %\n",
      "7th classifier test accuracy: 96.75 %\n",
      "8th classifier train accuracy: 97.05 %\n",
      "8th classifier test accuracy: 96.25 %\n",
      "9th classifier train accuracy: 97.1 %\n",
      "9th classifier test accuracy: 95.0 %\n",
      "1894 2000\n",
      "359 400\n",
      "When the number of interations is:  500 ,the training accuracy is: 0.947\n",
      "When the number of interations is:  500 ,the testing accuracy is: 0.8975\n",
      "The number of iterations is:  1000\n",
      "0th classifier train accuracy: 99.85 %\n",
      "0th classifier test accuracy: 99.75 %\n",
      "1th classifier train accuracy: 99.5 %\n",
      "1th classifier test accuracy: 98.5 %\n",
      "2th classifier train accuracy: 98.9 %\n",
      "2th classifier test accuracy: 97.0 %\n",
      "3th classifier train accuracy: 98.65 %\n",
      "3th classifier test accuracy: 96.25 %\n",
      "4th classifier train accuracy: 98.9 %\n",
      "4th classifier test accuracy: 97.25 %\n",
      "5th classifier train accuracy: 98.75 %\n",
      "5th classifier test accuracy: 96.0 %\n",
      "6th classifier train accuracy: 99.6 %\n",
      "6th classifier test accuracy: 97.25 %\n",
      "7th classifier train accuracy: 99.25 %\n",
      "7th classifier test accuracy: 96.75 %\n",
      "8th classifier train accuracy: 97.6 %\n",
      "8th classifier test accuracy: 95.75 %\n",
      "9th classifier train accuracy: 97.75 %\n",
      "9th classifier test accuracy: 94.75 %\n",
      "1926 2000\n",
      "352 400\n",
      "When the number of interations is:  1000 ,the training accuracy is: 0.963\n",
      "When the number of interations is:  1000 ,the testing accuracy is: 0.88\n",
      "The number of iterations is:  2000\n",
      "0th classifier train accuracy: 99.9 %\n",
      "0th classifier test accuracy: 99.5 %\n",
      "1th classifier train accuracy: 99.7 %\n",
      "1th classifier test accuracy: 98.75 %\n",
      "2th classifier train accuracy: 99.3 %\n",
      "2th classifier test accuracy: 96.75 %\n",
      "3th classifier train accuracy: 99.25 %\n",
      "3th classifier test accuracy: 95.25 %\n",
      "4th classifier train accuracy: 99.5 %\n",
      "4th classifier test accuracy: 97.25 %\n",
      "5th classifier train accuracy: 99.2 %\n",
      "5th classifier test accuracy: 95.5 %\n",
      "6th classifier train accuracy: 100.0 %\n",
      "6th classifier test accuracy: 97.5 %\n",
      "7th classifier train accuracy: 99.6 %\n",
      "7th classifier test accuracy: 96.75 %\n",
      "8th classifier train accuracy: 98.15 %\n",
      "8th classifier test accuracy: 95.0 %\n",
      "9th classifier train accuracy: 98.1 %\n",
      "9th classifier test accuracy: 94.0 %\n",
      "1956 2000\n",
      "349 400\n",
      "When the number of interations is:  2000 ,the training accuracy is: 0.978\n",
      "When the number of interations is:  2000 ,the testing accuracy is: 0.8725\n"
     ]
    }
   ],
   "source": [
    "testing_accuracy = []\n",
    "training_accuracy = []\n",
    "\n",
    "for l in range(len(number_of_iterations)):\n",
    "    y_hat_test = []\n",
    "    y_hat_train = []\n",
    "    \n",
    "    print(\"The number of iterations is: \", number_of_iterations[l])\n",
    "    for i in range(10):\n",
    "        y_tr = np.zeros(y_train.shape)\n",
    "        y_te = np.zeros(y_test.shape)\n",
    "        y_tr[y_train == i] = 1\n",
    "        y_te[y_test == i] = 1\n",
    "        d = model(X_train.T, y_tr, X_test.T, y_te, num_iterations=number_of_iterations[l], learning_rate=0.00001, print_cost=False)\n",
    "        y_hat_test.append(d[\"Y_hat_test\"])\n",
    "        y_hat_train.append(d[\"Y_hat_train\"])\n",
    "\n",
    "        # Print train/test Errors\n",
    "\n",
    "        print(str(i) + \"th classifier train accuracy: {} %\".format(100 - np.mean(np.abs(d[\"Y_prediction_train\"] - y_tr)) * 100))\n",
    "        print(str(i) + \"th classifier test accuracy: {} %\".format(100 - np.mean(np.abs(d[\"Y_prediction_test\"] - y_te)) * 100))\n",
    "\n",
    "    y_hat_test = np.array(y_hat_test)\n",
    "    y_hat_train = np.array(y_hat_train)\n",
    "\n",
    "    # y_hat_test stores the confidence of each example in the positive class of ten classifiers\n",
    "    # For each example, select the category with the highest confidence, which is the category the example belongs to\n",
    "    y_pred_test = np.argmax(y_hat_test, axis=0)\n",
    "    y_pred_train = np.argmax(y_hat_train, axis=0)\n",
    "\n",
    "    score_train = 1.0 * np.sum(y_pred_train == y_train) / m_train\n",
    "    score_test = 1.0 * np.sum(y_pred_test == y_test) / m_test\n",
    "\n",
    "    print(np.sum(y_pred_train == y_train), m_train)\n",
    "    print(np.sum(y_pred_test == y_test), m_test)\n",
    "\n",
    "    print(\"When the number of interations is: \", number_of_iterations[l], \",the training accuracy is: \" + str(score_train))\n",
    "    print(\"When the number of interations is: \", number_of_iterations[l], \",the testing accuracy is: \" + str(score_test))\n",
    "    testing_accuracy.append(score_test)\n",
    "    training_accuracy.append(score_train)\n",
    "    # Decompose into 10 binary classification tasks"
   ]
  },
  {
   "cell_type": "code",
   "execution_count": 124,
   "metadata": {},
   "outputs": [
    {
     "data": {
      "image/png": "[encoded data removed]",
      "text/plain": [
       "<Figure size 432x288 with 1 Axes>"
      ]
     },
     "metadata": {
      "needs_background": "light"
     },
     "output_type": "display_data"
    }
   ],
   "source": [
    "import math\n",
    "\n",
    "plt.plot(number_of_iterations, testing_accuracy,'ro-',label='Test accuracy')    \n",
    "plt.plot(number_of_iterations, training_accuracy,'bo-',label='Training accuracy')    \n",
    "\n",
    "plt.xlabel('number_of_iterations',fontsize = 15)\n",
    "plt.ylabel('Percentage',fontsize = 15)\n",
    "plt.show()"
   ]
  },
  {
   "cell_type": "markdown",
   "metadata": {},
   "source": [
    "The training accuracy increases as number of iterations increase. However, as the number of iterations increase, the testing accuracy reaches the peak at first, and then decreases. This is because too many iterations can lead the overfitting problem, which reduce the generalization capability of the model."
   ]
  },
  {
   "cell_type": "markdown",
   "metadata": {},
   "source": [
    "## 3.3 SVM"
   ]
  },
  {
   "cell_type": "markdown",
   "metadata": {},
   "source": [
    "### 3.3.1 SVM Basic"
   ]
  },
  {
   "cell_type": "code",
   "execution_count": 46,
   "metadata": {},
   "outputs": [],
   "source": [
    "from sklearn import svm"
   ]
  },
  {
   "cell_type": "code",
   "execution_count": 57,
   "metadata": {},
   "outputs": [
    {
     "name": "stderr",
     "output_type": "stream",
     "text": [
      "D:\\SoftwareFiles\\Anaconda3\\lib\\site-packages\\sklearn\\svm\\base.py:193: FutureWarning: The default value of gamma will change from 'auto' to 'scale' in version 0.22 to account better for unscaled features. Set gamma explicitly to 'auto' or 'scale' to avoid this warning.\n",
      "  \"avoid this warning.\", FutureWarning)\n"
     ]
    },
    {
     "data": {
      "text/plain": [
       "SVC(C=1.0, cache_size=200, class_weight=None, coef0=0.0,\n",
       "    decision_function_shape='ovr', degree=3, gamma='auto_deprecated',\n",
       "    kernel='rbf', max_iter=-1, probability=False, random_state=None,\n",
       "    shrinking=True, tol=0.001, verbose=False)"
      ]
     },
     "execution_count": 57,
     "metadata": {},
     "output_type": "execute_result"
    }
   ],
   "source": [
    "svc = svm.SVC()\n",
    "svc.fit(X_train_std, y_train)"
   ]
  },
  {
   "cell_type": "code",
   "execution_count": 58,
   "metadata": {},
   "outputs": [
    {
     "name": "stdout",
     "output_type": "stream",
     "text": [
      "The accuracy of the SVM is for training dataset is:  0.9775\n",
      "The accuracy of the SVM is for testing dataset is:  0.9\n"
     ]
    }
   ],
   "source": [
    "svc_train = svc.score(X_train_std, y_train)\n",
    "print(\"The accuracy of the SVM is for training dataset is: \", svc_train)\n",
    "svc_test = svc.score(X_test_std, y_test)\n",
    "print(\"The accuracy of the SVM is for testing dataset is: \",svc_test)"
   ]
  },
  {
   "cell_type": "markdown",
   "metadata": {},
   "source": [
    "### 3.3.2 SVM Parameter Tuning"
   ]
  },
  {
   "cell_type": "markdown",
   "metadata": {},
   "source": [
    "### Knernal"
   ]
  },
  {
   "cell_type": "markdown",
   "metadata": {},
   "source": [
    "### kernel=linear"
   ]
  },
  {
   "cell_type": "code",
   "execution_count": 59,
   "metadata": {},
   "outputs": [
    {
     "data": {
      "text/plain": [
       "SVC(C=1.0, cache_size=200, class_weight=None, coef0=0.0,\n",
       "    decision_function_shape='ovr', degree=3, gamma='auto_deprecated',\n",
       "    kernel='linear', max_iter=-1, probability=False, random_state=None,\n",
       "    shrinking=True, tol=0.001, verbose=False)"
      ]
     },
     "execution_count": 59,
     "metadata": {},
     "output_type": "execute_result"
    }
   ],
   "source": [
    "linear_svc = svm.SVC(kernel='linear')\n",
    "linear_svc.fit(X_train_std, y_train)"
   ]
  },
  {
   "cell_type": "code",
   "execution_count": 60,
   "metadata": {},
   "outputs": [
    {
     "name": "stdout",
     "output_type": "stream",
     "text": [
      "The accuracy of the SVM (linear kernel) is for training dataset is:  1.0\n",
      "The accuracy of the SVM (linear kernel) is for testing dataset is:  0.8975\n"
     ]
    }
   ],
   "source": [
    "svc_train = linear_svc.score(X_train_std, y_train)\n",
    "print(\"The accuracy of the SVM (linear kernel) is for training dataset is: \", svc_train)\n",
    "svc_test = linear_svc.score(X_test_std, y_test)\n",
    "print(\"The accuracy of the SVM (linear kernel) is for testing dataset is: \",svc_test)"
   ]
  },
  {
   "cell_type": "markdown",
   "metadata": {},
   "source": [
    "### kernel=poly"
   ]
  },
  {
   "cell_type": "code",
   "execution_count": 62,
   "metadata": {},
   "outputs": [
    {
     "name": "stderr",
     "output_type": "stream",
     "text": [
      "D:\\SoftwareFiles\\Anaconda3\\lib\\site-packages\\sklearn\\svm\\base.py:193: FutureWarning: The default value of gamma will change from 'auto' to 'scale' in version 0.22 to account better for unscaled features. Set gamma explicitly to 'auto' or 'scale' to avoid this warning.\n",
      "  \"avoid this warning.\", FutureWarning)\n"
     ]
    },
    {
     "data": {
      "text/plain": [
       "SVC(C=1.0, cache_size=200, class_weight=None, coef0=0.0,\n",
       "    decision_function_shape='ovr', degree=3, gamma='auto_deprecated',\n",
       "    kernel='poly', max_iter=-1, probability=False, random_state=None,\n",
       "    shrinking=True, tol=0.001, verbose=False)"
      ]
     },
     "execution_count": 62,
     "metadata": {},
     "output_type": "execute_result"
    }
   ],
   "source": [
    "poly_svc = svm.SVC(kernel='poly')\n",
    "poly_svc.fit(X_train_std, y_train)\n"
   ]
  },
  {
   "cell_type": "code",
   "execution_count": 63,
   "metadata": {},
   "outputs": [
    {
     "name": "stdout",
     "output_type": "stream",
     "text": [
      "The accuracy of the SVM (poly kernel) is for training dataset is:  0.7575\n",
      "The accuracy of the SVM (poly kernel) is for testing dataset is:  0.5225\n"
     ]
    }
   ],
   "source": [
    "svc_train = poly_svc.score(X_train_std, y_train)\n",
    "print(\"The accuracy of the SVM (poly kernel) is for training dataset is: \", svc_train)\n",
    "svc_test = poly_svc.score(X_test_std, y_test)\n",
    "print(\"The accuracy of the SVM (poly kernel) is for testing dataset is: \",svc_test)"
   ]
  },
  {
   "cell_type": "markdown",
   "metadata": {},
   "source": [
    "### kernel=rbf"
   ]
  },
  {
   "cell_type": "code",
   "execution_count": 64,
   "metadata": {},
   "outputs": [
    {
     "name": "stderr",
     "output_type": "stream",
     "text": [
      "D:\\SoftwareFiles\\Anaconda3\\lib\\site-packages\\sklearn\\svm\\base.py:193: FutureWarning: The default value of gamma will change from 'auto' to 'scale' in version 0.22 to account better for unscaled features. Set gamma explicitly to 'auto' or 'scale' to avoid this warning.\n",
      "  \"avoid this warning.\", FutureWarning)\n"
     ]
    },
    {
     "data": {
      "text/plain": [
       "SVC(C=1.0, cache_size=200, class_weight=None, coef0=0.0,\n",
       "    decision_function_shape='ovr', degree=3, gamma='auto_deprecated',\n",
       "    kernel='rbf', max_iter=-1, probability=False, random_state=None,\n",
       "    shrinking=True, tol=0.001, verbose=False)"
      ]
     },
     "execution_count": 64,
     "metadata": {},
     "output_type": "execute_result"
    }
   ],
   "source": [
    "rbf_svc = svm.SVC(kernel='rbf')\n",
    "rbf_svc.fit(X_train_std, y_train)"
   ]
  },
  {
   "cell_type": "code",
   "execution_count": 65,
   "metadata": {},
   "outputs": [
    {
     "name": "stdout",
     "output_type": "stream",
     "text": [
      "The accuracy of the SVM (rbf kernel) is for training dataset is:  0.9775\n",
      "The accuracy of the SVM (rbf kernel) is for testing dataset is:  0.9\n"
     ]
    }
   ],
   "source": [
    "svc_train = rbf_svc.score(X_train_std, y_train)\n",
    "print(\"The accuracy of the SVM (rbf kernel) is for training dataset is: \", svc_train)\n",
    "svc_test = rbf_svc.score(X_test_std, y_test)\n",
    "print(\"The accuracy of the SVM (rbf kernel) is for testing dataset is: \",svc_test)"
   ]
  },
  {
   "cell_type": "markdown",
   "metadata": {},
   "source": [
    "### kernel=sigmoid"
   ]
  },
  {
   "cell_type": "code",
   "execution_count": 73,
   "metadata": {},
   "outputs": [
    {
     "name": "stderr",
     "output_type": "stream",
     "text": [
      "D:\\SoftwareFiles\\Anaconda3\\lib\\site-packages\\sklearn\\svm\\base.py:193: FutureWarning: The default value of gamma will change from 'auto' to 'scale' in version 0.22 to account better for unscaled features. Set gamma explicitly to 'auto' or 'scale' to avoid this warning.\n",
      "  \"avoid this warning.\", FutureWarning)\n"
     ]
    },
    {
     "data": {
      "text/plain": [
       "SVC(C=1.0, cache_size=200, class_weight=None, coef0=0.0,\n",
       "    decision_function_shape='ovr', degree=3, gamma='auto_deprecated',\n",
       "    kernel='sigmoid', max_iter=-1, probability=False, random_state=None,\n",
       "    shrinking=True, tol=0.001, verbose=False)"
      ]
     },
     "execution_count": 73,
     "metadata": {},
     "output_type": "execute_result"
    }
   ],
   "source": [
    "sigmoid_svc = svm.SVC(kernel='sigmoid')\n",
    "sigmoid_svc.fit(X_train_std, y_train)"
   ]
  },
  {
   "cell_type": "code",
   "execution_count": 74,
   "metadata": {},
   "outputs": [
    {
     "name": "stdout",
     "output_type": "stream",
     "text": [
      "The accuracy of the SVM (sigmoid kernel) is for training dataset is:  0.9265\n",
      "The accuracy of the SVM (sigmoid kernel) is for testing dataset is:  0.89\n"
     ]
    }
   ],
   "source": [
    "svc_train = sigmoid_svc.score(X_train_std, y_train)\n",
    "print(\"The accuracy of the SVM (sigmoid kernel) is for training dataset is: \", svc_train)\n",
    "svc_test = sigmoid_svc.score(X_test_std, y_test)\n",
    "print(\"The accuracy of the SVM (sigmoid kernel) is for testing dataset is: \",svc_test)"
   ]
  },
  {
   "cell_type": "markdown",
   "metadata": {},
   "source": [
    "After comparing the kernel category, rbf achieve the best performance."
   ]
  },
  {
   "cell_type": "markdown",
   "metadata": {},
   "source": [
    "### Gamma"
   ]
  },
  {
   "cell_type": "code",
   "execution_count": 68,
   "metadata": {},
   "outputs": [
    {
     "name": "stdout",
     "output_type": "stream",
     "text": [
      "The accuracy of the SVM (rbf kernel) is for training dataset is:  0.9775\n",
      "The accuracy of the SVM (rbf kernel) is for testing dataset is:  0.9\n"
     ]
    }
   ],
   "source": [
    "rbf_svc = svm.SVC(kernel='rbf',gamma = 'auto')\n",
    "rbf_svc.fit(X_train_std, y_train)\n",
    "svc_train = rbf_svc.score(X_train_std, y_train)\n",
    "print(\"The accuracy of the SVM (rbf kernel) is for training dataset is: \", svc_train)\n",
    "svc_test = rbf_svc.score(X_test_std, y_test)\n",
    "print(\"The accuracy of the SVM (rbf kernel) is for testing dataset is: \",svc_test)"
   ]
  },
  {
   "cell_type": "markdown",
   "metadata": {},
   "source": [
    "The gamma will not impact the performance of the rbf SVM classifier."
   ]
  },
  {
   "cell_type": "markdown",
   "metadata": {},
   "source": [
    "### 3.3.3 SVM Cross-Validation"
   ]
  },
  {
   "cell_type": "code",
   "execution_count": 77,
   "metadata": {},
   "outputs": [],
   "source": [
    "from sklearn.metrics import accuracy_score\n",
    "n_train = len(X_train_std)\n",
    "k_fold = 8\n",
    "id_train = [[]] * k_fold\n",
    "id_val = [[]] * k_fold\n",
    "\n",
    "for m in range(k_fold):\n",
    "    id_val[m] = range(m, n_train, k_fold) # Indices of k_fold validation sets.\n",
    "    id_train[m] = np.setdiff1d(range(n_train), id_val[m])"
   ]
  },
  {
   "cell_type": "code",
   "execution_count": 79,
   "metadata": {},
   "outputs": [
    {
     "name": "stdout",
     "output_type": "stream",
     "text": [
      "\n",
      " iteration 0\n"
     ]
    },
    {
     "name": "stderr",
     "output_type": "stream",
     "text": [
      "D:\\SoftwareFiles\\Anaconda3\\lib\\site-packages\\sklearn\\svm\\base.py:193: FutureWarning: The default value of gamma will change from 'auto' to 'scale' in version 0.22 to account better for unscaled features. Set gamma explicitly to 'auto' or 'scale' to avoid this warning.\n",
      "  \"avoid this warning.\", FutureWarning)\n"
     ]
    },
    {
     "name": "stdout",
     "output_type": "stream",
     "text": [
      "Training confusion matrix:\n",
      " [[164   0   0   0   0   0   0   0   0   0]\n",
      " [  0 188   1   1   0   0   0   0   0   0]\n",
      " [  0   0 171   0   1   0   0   0   1   1]\n",
      " [  0   0   0 173   0   1   0   1   1   1]\n",
      " [  0   1   0   0 183   0   1   0   0   2]\n",
      " [  0   1   1   0   1 154   2   0   0   0]\n",
      " [  0   0   0   0   0   1 177   0   0   0]\n",
      " [  0   1   0   0   1   0   0 188   0   3]\n",
      " [  0   0   0   0   0   2   1   0 145   0]\n",
      " [  2   0   0   1   1   1   0   1   0 174]]\n",
      "Training accuracy: 0.9811428571428571\n",
      "Validation confusion matrix:\n",
      " [[26  0  0  0  0  0  1  0  0  0]\n",
      " [ 0 29  0  0  0  0  0  1  0  0]\n",
      " [ 0  0 24  0  0  0  0  0  0  0]\n",
      " [ 0  0  0 13  0  1  0  0  0  0]\n",
      " [ 0  0  0  0 27  0  0  0  0  0]\n",
      " [ 0  0  0  1  0 20  0  0  0  0]\n",
      " [ 0  0  0  0  0  1 21  0  0  0]\n",
      " [ 0  0  0  0  0  0  0 30  0  1]\n",
      " [ 0  1  1  0  0  0  0  0 22  0]\n",
      " [ 1  0  0  1  0  1  0  1  0 26]]\n",
      "Validation accuracy: 0.952\n",
      "\n",
      " iteration 1\n"
     ]
    },
    {
     "name": "stderr",
     "output_type": "stream",
     "text": [
      "D:\\SoftwareFiles\\Anaconda3\\lib\\site-packages\\sklearn\\svm\\base.py:193: FutureWarning: The default value of gamma will change from 'auto' to 'scale' in version 0.22 to account better for unscaled features. Set gamma explicitly to 'auto' or 'scale' to avoid this warning.\n",
      "  \"avoid this warning.\", FutureWarning)\n"
     ]
    },
    {
     "name": "stdout",
     "output_type": "stream",
     "text": [
      "Training confusion matrix:\n",
      " [[164   0   0   0   0   0   1   0   0   0]\n",
      " [  0 190   1   1   0   0   0   1   0   0]\n",
      " [  0   0 174   0   1   0   0   0   1   1]\n",
      " [  0   0   0 164   0   2   0   1   0   1]\n",
      " [  0   1   0   0 185   0   1   0   0   2]\n",
      " [  0   1   1   1   1 152   2   0   0   0]\n",
      " [  0   0   0   0   0   2 170   0   0   0]\n",
      " [  0   1   0   0   1   0   0 193   0   4]\n",
      " [  0   1   1   0   0   2   1   0 136   0]\n",
      " [  3   0   0   2   1   2   0   2   0 178]]\n",
      "Training accuracy: 0.9748571428571429\n",
      "Validation confusion matrix:\n",
      " [[26  0  0  0  0  0  0  0  0  0]\n",
      " [ 0 27  0  0  0  0  0  0  0  0]\n",
      " [ 0  0 21  0  0  0  0  0  0  0]\n",
      " [ 0  0  0 22  0  0  0  0  1  0]\n",
      " [ 0  0  0  0 25  0  0  0  0  0]\n",
      " [ 0  0  0  0  0 22  0  0  0  0]\n",
      " [ 0  0  0  0  0  0 28  0  0  0]\n",
      " [ 0  0  0  0  0  0  0 25  0  0]\n",
      " [ 0  0  0  0  0  0  0  0 31  0]\n",
      " [ 0  0  0  0  0  0  0  0  0 22]]\n",
      "Validation accuracy: 0.996\n",
      "\n",
      " iteration 2\n"
     ]
    },
    {
     "name": "stderr",
     "output_type": "stream",
     "text": [
      "D:\\SoftwareFiles\\Anaconda3\\lib\\site-packages\\sklearn\\svm\\base.py:193: FutureWarning: The default value of gamma will change from 'auto' to 'scale' in version 0.22 to account better for unscaled features. Set gamma explicitly to 'auto' or 'scale' to avoid this warning.\n",
      "  \"avoid this warning.\", FutureWarning)\n"
     ]
    },
    {
     "name": "stdout",
     "output_type": "stream",
     "text": [
      "Training confusion matrix:\n",
      " [[174   0   0   0   0   0   1   0   0   0]\n",
      " [  0 200   1   1   0   0   0   1   0   0]\n",
      " [  0   0 172   0   1   0   0   0   0   1]\n",
      " [  0   0   0 159   0   1   0   1   1   1]\n",
      " [  0   1   0   0 181   0   0   0   0   2]\n",
      " [  0   1   1   1   0 150   2   0   0   0]\n",
      " [  0   0   0   0   0   2 164   0   0   0]\n",
      " [  0   1   0   0   1   0   0 186   0   4]\n",
      " [  0   1   1   0   0   1   1   0 155   0]\n",
      " [  2   0   0   2   0   1   0   1   0 173]]\n",
      "Training accuracy: 0.9794285714285714\n",
      "Validation confusion matrix:\n",
      " [[16  0  0  0  0  0  0  0  0  0]\n",
      " [ 0 17  0  0  0  0  0  0  0  0]\n",
      " [ 0  0 23  0  0  0  0  0  1  0]\n",
      " [ 0  0  0 27  0  1  0  0  0  0]\n",
      " [ 0  0  0  0 29  0  1  0  0  0]\n",
      " [ 0  0  0  0  1 24  0  0  0  0]\n",
      " [ 0  0  0  0  0  0 34  0  0  0]\n",
      " [ 0  0  0  0  0  0  0 32  0  0]\n",
      " [ 0  0  0  0  0  1  0  0 12  0]\n",
      " [ 1  0  0  0  1  1  0  1  0 27]]\n",
      "Validation accuracy: 0.964\n",
      "\n",
      " iteration 3\n"
     ]
    },
    {
     "name": "stderr",
     "output_type": "stream",
     "text": [
      "D:\\SoftwareFiles\\Anaconda3\\lib\\site-packages\\sklearn\\svm\\base.py:193: FutureWarning: The default value of gamma will change from 'auto' to 'scale' in version 0.22 to account better for unscaled features. Set gamma explicitly to 'auto' or 'scale' to avoid this warning.\n",
      "  \"avoid this warning.\", FutureWarning)\n"
     ]
    },
    {
     "name": "stdout",
     "output_type": "stream",
     "text": [
      "Training confusion matrix:\n",
      " [[164   0   0   0   0   0   1   0   0   0]\n",
      " [  0 182   1   1   0   0   0   1   0   0]\n",
      " [  0   0 172   0   1   0   0   0   1   1]\n",
      " [  0   0   0 161   0   2   0   1   1   1]\n",
      " [  0   1   0   0 187   0   1   0   0   2]\n",
      " [  0   1   0   1   1 154   2   0   0   0]\n",
      " [  0   0   0   0   0   2 177   0   0   0]\n",
      " [  0   1   0   0   0   0   0 183   0   4]\n",
      " [  0   1   1   0   0   2   1   0 154   0]\n",
      " [  3   0   0   2   1   2   0   2   0 173]]\n",
      "Training accuracy: 0.9754285714285714\n",
      "Validation confusion matrix:\n",
      " [[26  0  0  0  0  0  0  0  0  0]\n",
      " [ 0 35  0  0  0  0  0  0  0  0]\n",
      " [ 0  0 23  0  0  0  0  0  0  0]\n",
      " [ 0  0  0 25  0  0  0  0  0  0]\n",
      " [ 0  0  0  0 23  0  0  0  0  0]\n",
      " [ 0  0  1  0  0 20  0  0  0  0]\n",
      " [ 0  0  0  0  0  0 21  0  0  0]\n",
      " [ 0  0  0  0  1  0  0 35  0  0]\n",
      " [ 0  0  0  0  0  0  0  0 13  0]\n",
      " [ 0  0  0  0  0  0  0  0  0 27]]\n",
      "Validation accuracy: 0.992\n",
      "\n",
      " iteration 4\n"
     ]
    },
    {
     "name": "stderr",
     "output_type": "stream",
     "text": [
      "D:\\SoftwareFiles\\Anaconda3\\lib\\site-packages\\sklearn\\svm\\base.py:193: FutureWarning: The default value of gamma will change from 'auto' to 'scale' in version 0.22 to account better for unscaled features. Set gamma explicitly to 'auto' or 'scale' to avoid this warning.\n",
      "  \"avoid this warning.\", FutureWarning)\n"
     ]
    },
    {
     "name": "stdout",
     "output_type": "stream",
     "text": [
      "Training confusion matrix:\n",
      " [[169   0   0   0   0   0   1   0   0   0]\n",
      " [  0 193   1   1   0   0   0   1   0   0]\n",
      " [  0   0 168   0   1   0   0   0   1   1]\n",
      " [  0   0   0 166   0   2   0   0   1   0]\n",
      " [  0   1   0   0 179   0   1   0   0   1]\n",
      " [  0   0   1   1   1 147   2   0   0   0]\n",
      " [  0   0   0   0   0   2 181   0   0   0]\n",
      " [  0   0   0   0   1   0   0 196   0   1]\n",
      " [  0   1   1   0   0   1   0   0 148   0]\n",
      " [  3   0   0   1   1   2   0   2   0 169]]\n",
      "Training accuracy: 0.9805714285714285\n",
      "Validation confusion matrix:\n",
      " [[21  0  0  0  0  0  0  0  0  0]\n",
      " [ 0 24  0  0  0  0  0  0  0  0]\n",
      " [ 0  0 27  0  0  0  0  0  0  0]\n",
      " [ 0  0  0 20  0  0  0  1  0  1]\n",
      " [ 0  0  0  0 31  0  0  0  0  1]\n",
      " [ 0  1  0  0  0 27  0  0  0  0]\n",
      " [ 0  0  0  0  0  0 17  0  0  0]\n",
      " [ 0  1  0  0  0  0  0 22  0  3]\n",
      " [ 0  0  0  0  0  1  1  0 19  0]\n",
      " [ 0  0  0  1  0  0  0  0  0 31]]\n",
      "Validation accuracy: 0.956\n",
      "\n",
      " iteration 5\n"
     ]
    },
    {
     "name": "stderr",
     "output_type": "stream",
     "text": [
      "D:\\SoftwareFiles\\Anaconda3\\lib\\site-packages\\sklearn\\svm\\base.py:193: FutureWarning: The default value of gamma will change from 'auto' to 'scale' in version 0.22 to account better for unscaled features. Set gamma explicitly to 'auto' or 'scale' to avoid this warning.\n",
      "  \"avoid this warning.\", FutureWarning)\n"
     ]
    },
    {
     "name": "stdout",
     "output_type": "stream",
     "text": [
      "Training confusion matrix:\n",
      " [[161   0   0   0   0   0   1   0   0   0]\n",
      " [  0 192   1   1   0   0   0   1   0   0]\n",
      " [  0   0 169   0   0   0   0   0   1   1]\n",
      " [  0   0   0 156   0   2   0   1   1   1]\n",
      " [  0   1   0   0 179   0   1   0   0   1]\n",
      " [  0   1   1   1   1 157   2   0   0   0]\n",
      " [  0   0   0   0   0   2 172   0   0   0]\n",
      " [  0   1   0   0   1   0   0 198   0   4]\n",
      " [  0   1   1   0   0   2   1   0 142   0]\n",
      " [  3   0   0   2   1   2   0   2   0 181]]\n",
      "Training accuracy: 0.9754285714285714\n",
      "Validation confusion matrix:\n",
      " [[29  0  0  0  0  0  0  0  0  0]\n",
      " [ 0 25  0  0  0  0  0  0  0  0]\n",
      " [ 0  0 26  0  1  0  0  0  0  0]\n",
      " [ 0  0  0 30  0  0  0  0  0  0]\n",
      " [ 0  0  0  0 31  0  0  0  0  1]\n",
      " [ 0  0  0  0  0 17  0  0  0  0]\n",
      " [ 0  0  0  0  0  0 26  0  0  0]\n",
      " [ 0  0  0  0  0  0  0 20  0  0]\n",
      " [ 0  0  0  0  0  0  0  0 25  0]\n",
      " [ 0  0  0  0  0  0  0  0  0 19]]\n",
      "Validation accuracy: 0.992\n",
      "\n",
      " iteration 6\n"
     ]
    },
    {
     "name": "stderr",
     "output_type": "stream",
     "text": [
      "D:\\SoftwareFiles\\Anaconda3\\lib\\site-packages\\sklearn\\svm\\base.py:193: FutureWarning: The default value of gamma will change from 'auto' to 'scale' in version 0.22 to account better for unscaled features. Set gamma explicitly to 'auto' or 'scale' to avoid this warning.\n",
      "  \"avoid this warning.\", FutureWarning)\n"
     ]
    },
    {
     "name": "stdout",
     "output_type": "stream",
     "text": [
      "Training confusion matrix:\n",
      " [[167   0   0   0   0   0   1   0   0   0]\n",
      " [  0 185   0   0   0   0   0   1   0   0]\n",
      " [  0   0 167   0   1   0   0   0   1   0]\n",
      " [  0   0   0 168   0   2   0   1   1   1]\n",
      " [  0   1   0   0 184   0   1   0   0   2]\n",
      " [  0   1   1   1   1 158   0   0   0   0]\n",
      " [  0   0   0   0   0   1 165   0   0   0]\n",
      " [  0   1   0   0   1   0   0 190   0   4]\n",
      " [  0   1   1   0   0   2   1   0 149   0]\n",
      " [  2   0   0   2   1   2   0   2   0 179]]\n",
      "Training accuracy: 0.9782857142857143\n",
      "Validation confusion matrix:\n",
      " [[23  0  0  0  0  0  0  0  0  0]\n",
      " [ 0 32  1  1  0  0  0  0  0  0]\n",
      " [ 0  0 28  0  0  0  0  0  0  1]\n",
      " [ 0  0  0 18  0  0  0  0  0  0]\n",
      " [ 0  0  0  0 26  0  0  0  0  0]\n",
      " [ 0  0  0  0  0 16  2  0  0  0]\n",
      " [ 0  0  0  0  0  1 33  0  0  0]\n",
      " [ 0  0  0  0  0  0  0 28  0  0]\n",
      " [ 0  0  0  0  0  0  0  0 18  0]\n",
      " [ 1  0  0  0  0  0  0  0  0 21]]\n",
      "Validation accuracy: 0.972\n",
      "\n",
      " iteration 7\n"
     ]
    },
    {
     "name": "stderr",
     "output_type": "stream",
     "text": [
      "D:\\SoftwareFiles\\Anaconda3\\lib\\site-packages\\sklearn\\svm\\base.py:193: FutureWarning: The default value of gamma will change from 'auto' to 'scale' in version 0.22 to account better for unscaled features. Set gamma explicitly to 'auto' or 'scale' to avoid this warning.\n",
      "  \"avoid this warning.\", FutureWarning)\n"
     ]
    },
    {
     "name": "stdout",
     "output_type": "stream",
     "text": [
      "Training confusion matrix:\n",
      " [[167   0   0   0   0   0   1   0   0   0]\n",
      " [  0 189   1   1   0   0   0   1   0   0]\n",
      " [  0   0 172   0   1   0   0   0   1   1]\n",
      " [  0   0   0 155   0   2   0   1   1   1]\n",
      " [  0   0   0   0 192   0   1   0   0   2]\n",
      " [  0   1   1   1   1 146   2   0   0   0]\n",
      " [  0   0   0   0   0   2 180   0   0   0]\n",
      " [  0   1   0   0   1   0   0 192   0   4]\n",
      " [  0   1   1   0   0   2   1   0 140   0]\n",
      " [  3   0   0   2   1   2   0   2   0 173]]\n",
      "Training accuracy: 0.9748571428571429\n",
      "Validation confusion matrix:\n",
      " [[23  0  0  0  0  0  0  0  0  0]\n",
      " [ 0 28  0  0  0  0  0  0  0  0]\n",
      " [ 0  0 23  0  0  0  0  0  0  0]\n",
      " [ 0  0  0 31  0  0  0  0  0  0]\n",
      " [ 0  1  0  0 18  0  0  0  0  0]\n",
      " [ 0  0  0  0  0 28  0  0  0  0]\n",
      " [ 0  0  0  0  0  0 18  0  0  0]\n",
      " [ 0  0  0  0  0  0  0 26  0  0]\n",
      " [ 0  0  0  0  0  0  0  0 27  0]\n",
      " [ 0  0  0  0  0  0  0  0  0 27]]\n",
      "Validation accuracy: 0.996\n"
     ]
    }
   ],
   "source": [
    "CMat_train_best = None\n",
    "CMat_val_best = None\n",
    "acc_train_best = 0\n",
    "acc_val_best = 0\n",
    "model_best = None\n",
    "\n",
    "from sklearn.metrics import confusion_matrix\n",
    "# ConfusionMatrix = np.zeros((2,2), dtype=int)\n",
    "acc_val_best = 0\n",
    "for m in range(k_fold):\n",
    "    print(\"\\n iteration\", m)\n",
    "    X_train_cur = X_train_std[id_train[m]]\n",
    "    y_train_cur = y_train[id_train[m]]\n",
    "    X_val_cur = X_train_std[id_val[m]]\n",
    "    y_val_cur = y_train[id_val[m]]\n",
    "#     print(X_cur.shape, y_cur.shape, X_val_cur.shape, y_val_cur.shape)\n",
    "    \n",
    "#     svc_cur = svm.SVC(kernel='rbf',gamma='auto')\n",
    "#     svc_cur.fit(X_train_cur, y_train_cur)\n",
    "    \n",
    "    rbf_svc = svm.SVC(kernel='rbf')\n",
    "    rbf_svc.fit(X_train_std, y_train)\n",
    "    \n",
    "    y_pred_train_cur = rbf_svc.predict(X_train_cur)\n",
    "    y_pred_val_cur = rbf_svc.predict(X_val_cur)\n",
    "    \n",
    "    CMat_train = confusion_matrix(y_train_cur, y_pred_train_cur)\n",
    "#     acc_train = np.sum(np.diag(CMat_train))/np.shape(X_train_cur)[0]\n",
    "    acc_train = accuracy_score(y_train_cur, y_pred_train_cur)\n",
    "    \n",
    "    CMat_val = confusion_matrix(y_val_cur, y_pred_val_cur)\n",
    "#     acc_val = np.sum(np.diag(CMat_val))/np.shape(X_val_cur)[0]\n",
    "    acc_val = accuracy_score(y_val_cur, y_pred_val_cur)\n",
    "    \n",
    "    if acc_val > acc_val_best:\n",
    "        acc_train_best = acc_train\n",
    "        acc_val_best = acc_val\n",
    "        model_best = rbf_svc\n",
    "        CMat_train_best = CMat_train\n",
    "        CMat_val_best = CMat_val\n",
    "    \n",
    "    print(\"Training confusion matrix:\\n\", CMat_train)\n",
    "    print(\"Training accuracy:\", acc_train)\n",
    "    print(\"Validation confusion matrix:\\n\", CMat_val)\n",
    "    print(\"Validation accuracy:\", acc_val)"
   ]
  },
  {
   "cell_type": "code",
   "execution_count": 80,
   "metadata": {},
   "outputs": [
    {
     "name": "stdout",
     "output_type": "stream",
     "text": [
      "Training confusion matrix:\n",
      " [[167   0   0   0   0   0   1   0   0   0]\n",
      " [  0 189   1   1   0   0   0   1   0   0]\n",
      " [  0   0 172   0   1   0   0   0   1   1]\n",
      " [  0   0   0 155   0   2   0   1   1   1]\n",
      " [  0   0   0   0 192   0   1   0   0   2]\n",
      " [  0   1   1   1   1 146   2   0   0   0]\n",
      " [  0   0   0   0   0   2 180   0   0   0]\n",
      " [  0   1   0   0   1   0   0 192   0   4]\n",
      " [  0   1   1   0   0   2   1   0 140   0]\n",
      " [  3   0   0   2   1   2   0   2   0 173]]\n",
      "Training accuracy: 0.9748571428571429\n",
      "Validation confusion matrix:\n",
      " [[23  0  0  0  0  0  0  0  0  0]\n",
      " [ 0 28  0  0  0  0  0  0  0  0]\n",
      " [ 0  0 23  0  0  0  0  0  0  0]\n",
      " [ 0  0  0 31  0  0  0  0  0  0]\n",
      " [ 0  1  0  0 18  0  0  0  0  0]\n",
      " [ 0  0  0  0  0 28  0  0  0  0]\n",
      " [ 0  0  0  0  0  0 18  0  0  0]\n",
      " [ 0  0  0  0  0  0  0 26  0  0]\n",
      " [ 0  0  0  0  0  0  0  0 27  0]\n",
      " [ 0  0  0  0  0  0  0  0  0 27]]\n",
      "Validation accuracy: 0.996\n"
     ]
    }
   ],
   "source": [
    "print(\"Training confusion matrix:\\n\", CMat_train)\n",
    "print(\"Training accuracy:\", acc_train)\n",
    "print(\"Validation confusion matrix:\\n\", CMat_val)\n",
    "print(\"Validation accuracy:\", acc_val)"
   ]
  },
  {
   "cell_type": "code",
   "execution_count": 81,
   "metadata": {},
   "outputs": [
    {
     "name": "stdout",
     "output_type": "stream",
     "text": [
      "The accuracy of the best SVM model after cross-validation is 0.9.\n"
     ]
    }
   ],
   "source": [
    "y_predict = model_best.predict(X_test_std)\n",
    "print(\"The accuracy of the best SVM model after cross-validation is {}.\".format(accuracy_score(y_test, y_predict)))"
   ]
  },
  {
   "cell_type": "markdown",
   "metadata": {},
   "source": [
    "Although the highest validation accuracy has been imporved to 0.996. The accuracy for the test dataset still remains 0.9."
   ]
  },
  {
   "cell_type": "markdown",
   "metadata": {},
   "source": [
    "## 3.4 Neuron networks"
   ]
  },
  {
   "cell_type": "markdown",
   "metadata": {},
   "source": [
    "### 3.4.1 Neuron networks basic"
   ]
  },
  {
   "cell_type": "code",
   "execution_count": 11,
   "metadata": {},
   "outputs": [],
   "source": [
    "from sklearn.neural_network import MLPClassifier\n"
   ]
  },
  {
   "cell_type": "code",
   "execution_count": 12,
   "metadata": {},
   "outputs": [
    {
     "data": {
      "text/plain": [
       "MLPClassifier(activation='relu', alpha=1e-05, batch_size='auto', beta_1=0.9,\n",
       "              beta_2=0.999, early_stopping=False, epsilon=1e-08,\n",
       "              hidden_layer_sizes=(10, 10, 10), learning_rate='constant',\n",
       "              learning_rate_init=0.001, max_iter=200, momentum=0.9,\n",
       "              n_iter_no_change=10, nesterovs_momentum=True, power_t=0.5,\n",
       "              random_state=1, shuffle=True, solver='lbfgs', tol=0.0001,\n",
       "              validation_fraction=0.1, verbose=False, warm_start=False)"
      ]
     },
     "execution_count": 12,
     "metadata": {},
     "output_type": "execute_result"
    }
   ],
   "source": [
    "clf = MLPClassifier(solver='lbfgs', alpha=1e-5, hidden_layer_sizes=(10,10,10), random_state=1)\n",
    "clf.fit(X_train_std, y_train)"
   ]
  },
  {
   "cell_type": "code",
   "execution_count": 13,
   "metadata": {},
   "outputs": [
    {
     "name": "stdout",
     "output_type": "stream",
     "text": [
      "The accuracy of the neuron networks for training dataset is:  0.9995\n",
      "The accuracy of the neuron networks for testing dataset is:  0.8275\n"
     ]
    }
   ],
   "source": [
    "clf_train = clf.score(X_train_std, y_train)\n",
    "print(\"The accuracy of the neuron networks for training dataset is: \", clf_train)\n",
    "clf_test = clf.score(X_test_std, y_test)\n",
    "print(\"The accuracy of the neuron networks for testing dataset is: \",clf_test)"
   ]
  },
  {
   "cell_type": "markdown",
   "metadata": {},
   "source": [
    "### 3.4.2 Neuron networks parameter tuning¶"
   ]
  },
  {
   "cell_type": "markdown",
   "metadata": {},
   "source": [
    "### Solver"
   ]
  },
  {
   "cell_type": "markdown",
   "metadata": {},
   "source": [
    "### sgd"
   ]
  },
  {
   "cell_type": "code",
   "execution_count": 14,
   "metadata": {},
   "outputs": [
    {
     "name": "stdout",
     "output_type": "stream",
     "text": [
      "The accuracy of the sgd neuron networks for training dataset is:  0.952\n",
      "The accuracy of the sgd neuron networks for testing dataset is:  0.7675\n"
     ]
    },
    {
     "name": "stderr",
     "output_type": "stream",
     "text": [
      "D:\\SoftwareFiles\\Anaconda3\\lib\\site-packages\\sklearn\\neural_network\\multilayer_perceptron.py:566: ConvergenceWarning: Stochastic Optimizer: Maximum iterations (200) reached and the optimization hasn't converged yet.\n",
      "  % self.max_iter, ConvergenceWarning)\n"
     ]
    }
   ],
   "source": [
    "clf = MLPClassifier(solver='sgd', alpha=1e-5, hidden_layer_sizes=(10,10,10), random_state=1)\n",
    "clf.fit(X_train_std, y_train)\n",
    "clf_train = clf.score(X_train_std, y_train)\n",
    "print(\"The accuracy of the sgd neuron networks for training dataset is: \", clf_train)\n",
    "clf_test = clf.score(X_test_std, y_test)\n",
    "print(\"The accuracy of the sgd neuron networks for testing dataset is: \",clf_test)"
   ]
  },
  {
   "cell_type": "markdown",
   "metadata": {},
   "source": [
    "### adam"
   ]
  },
  {
   "cell_type": "code",
   "execution_count": 15,
   "metadata": {},
   "outputs": [
    {
     "name": "stdout",
     "output_type": "stream",
     "text": [
      "The accuracy of the adam neuron networks for training dataset is:  0.999\n",
      "The accuracy of the adam neuron networks for testing dataset is:  0.825\n"
     ]
    }
   ],
   "source": [
    "clf = MLPClassifier(solver='adam', alpha=1e-5, hidden_layer_sizes=(10,10,10), random_state=1)\n",
    "clf.fit(X_train_std, y_train)\n",
    "clf_train = clf.score(X_train_std, y_train)\n",
    "print(\"The accuracy of the adam neuron networks for training dataset is: \", clf_train)\n",
    "clf_test = clf.score(X_test_std, y_test)\n",
    "print(\"The accuracy of the adam neuron networks for testing dataset is: \",clf_test)"
   ]
  },
  {
   "cell_type": "markdown",
   "metadata": {},
   "source": [
    "### lbfgs"
   ]
  },
  {
   "cell_type": "code",
   "execution_count": 102,
   "metadata": {},
   "outputs": [
    {
     "name": "stdout",
     "output_type": "stream",
     "text": [
      "The accuracy of the neuron networks for training dataset is:  0.9995\n",
      "The accuracy of the neuron networks for testing dataset is:  0.8275\n"
     ]
    }
   ],
   "source": [
    "clf = MLPClassifier(solver='lbfgs', alpha=1e-5, hidden_layer_sizes=(10,10,10), random_state=1)\n",
    "clf.fit(X_train_std, y_train)\n",
    "clf_train = clf.score(X_train_std, y_train)\n",
    "print(\"The accuracy of the neuron networks for training dataset is: \", clf_train)\n",
    "clf_test = clf.score(X_test_std, y_test)\n",
    "print(\"The accuracy of the neuron networks for testing dataset is: \",clf_test)"
   ]
  },
  {
   "cell_type": "markdown",
   "metadata": {},
   "source": [
    "Lbgs solver achieves the best performance."
   ]
  },
  {
   "cell_type": "markdown",
   "metadata": {},
   "source": [
    "### Activation function"
   ]
  },
  {
   "cell_type": "code",
   "execution_count": 110,
   "metadata": {},
   "outputs": [
    {
     "name": "stdout",
     "output_type": "stream",
     "text": [
      "The accuracy of the logistic function neuron networks for training dataset is:  0.9295\n",
      "The accuracy of the logistic function neuron networks for testing dataset is:  0.78\n"
     ]
    }
   ],
   "source": [
    "clf = MLPClassifier(activation = 'logistic',solver='lbfgs', alpha=1e-5, hidden_layer_sizes=(10,10,10), random_state=1)\n",
    "\n",
    "clf.fit(X_train_std, y_train)\n",
    "clf_train = clf.score(X_train_std, y_train)\n",
    "print(\"The accuracy of the logistic function neuron networks for training dataset is: \", clf_train)\n",
    "clf_test = clf.score(X_test_std, y_test)\n",
    "print(\"The accuracy of the logistic function neuron networks for testing dataset is: \",clf_test)"
   ]
  },
  {
   "cell_type": "code",
   "execution_count": 111,
   "metadata": {},
   "outputs": [
    {
     "name": "stdout",
     "output_type": "stream",
     "text": [
      "The accuracy of the tanh function neuron networks for training dataset is:  0.9885\n",
      "The accuracy of the tanh function neuron networks for testing dataset is:  0.75\n"
     ]
    }
   ],
   "source": [
    "clf = MLPClassifier(activation = 'tanh',solver='lbfgs', alpha=1e-5, hidden_layer_sizes=(10,10,10), random_state=1)\n",
    "\n",
    "clf.fit(X_train_std, y_train)\n",
    "clf_train = clf.score(X_train_std, y_train)\n",
    "print(\"The accuracy of the tanh function neuron networks for training dataset is: \", clf_train)\n",
    "clf_test = clf.score(X_test_std, y_test)\n",
    "print(\"The accuracy of the tanh function neuron networks for testing dataset is: \",clf_test)"
   ]
  },
  {
   "cell_type": "code",
   "execution_count": 112,
   "metadata": {},
   "outputs": [
    {
     "name": "stdout",
     "output_type": "stream",
     "text": [
      "The accuracy of the identity function neuron networks for training dataset is:  1.0\n",
      "The accuracy of the identity function neuron networks for testing dataset is:  0.845\n"
     ]
    }
   ],
   "source": [
    "clf = MLPClassifier(activation = 'identity',solver='lbfgs', alpha=1e-5, hidden_layer_sizes=(10,10,10), random_state=1)\n",
    "\n",
    "clf.fit(X_train_std, y_train)\n",
    "clf_train = clf.score(X_train_std, y_train)\n",
    "print(\"The accuracy of the identity function neuron networks for training dataset is: \", clf_train)\n",
    "clf_test = clf.score(X_test_std, y_test)\n",
    "print(\"The accuracy of the identity function neuron networks for testing dataset is: \",clf_test)"
   ]
  },
  {
   "cell_type": "markdown",
   "metadata": {},
   "source": [
    "Identity activation function achieves best performance."
   ]
  },
  {
   "cell_type": "markdown",
   "metadata": {},
   "source": [
    "### learning rate"
   ]
  },
  {
   "cell_type": "code",
   "execution_count": 113,
   "metadata": {},
   "outputs": [],
   "source": [
    "LearningRate = [0.000001, 0.00001, 0.0001, 0.001, 0.01, 0.1]"
   ]
  },
  {
   "cell_type": "code",
   "execution_count": 114,
   "metadata": {},
   "outputs": [
    {
     "name": "stdout",
     "output_type": "stream",
     "text": [
      "When learning rate is:  1e-06 The accuracy of the neuron networks for testing dataset is:  0.845\n",
      "When learning rate is:  1e-05 The accuracy of the neuron networks for testing dataset is:  0.845\n",
      "When learning rate is:  0.0001 The accuracy of the neuron networks for testing dataset is:  0.845\n",
      "When learning rate is:  0.001 The accuracy of the neuron networks for testing dataset is:  0.845\n",
      "When learning rate is:  0.01 The accuracy of the neuron networks for testing dataset is:  0.845\n",
      "When learning rate is:  0.1 The accuracy of the neuron networks for testing dataset is:  0.845\n"
     ]
    }
   ],
   "source": [
    "testing_accuracy = []\n",
    "training_accuracy = []\n",
    "\n",
    "for i in range(len(LearningRate)):\n",
    "    clf = MLPClassifier(activation='identity', alpha=1e-05, batch_size='auto', beta_1=0.9,\n",
    "              beta_2=0.999, early_stopping=False, epsilon=1e-08,\n",
    "              hidden_layer_sizes=(10, 10, 10), learning_rate='constant',\n",
    "              learning_rate_init=LearningRate[i], max_iter=1000, momentum=0.9,\n",
    "              n_iter_no_change=10, nesterovs_momentum=True, power_t=0.5,\n",
    "              random_state=1, shuffle=True, solver='lbfgs', tol=0.0001,\n",
    "              validation_fraction=0.1, verbose=False, warm_start=False)\n",
    "    \n",
    "    clf.fit(X_train_std, y_train)\n",
    "\n",
    "    clf_test = clf.score(X_test_std, y_test)\n",
    "    print('When learning rate is: ', LearningRate[i], \"The accuracy of the neuron networks for testing dataset is: \",clf_test)\n",
    "    "
   ]
  },
  {
   "cell_type": "markdown",
   "metadata": {},
   "source": [
    "learning rate has little impact on the training."
   ]
  },
  {
   "cell_type": "markdown",
   "metadata": {},
   "source": [
    "### Hidden layer neuron size"
   ]
  },
  {
   "cell_type": "code",
   "execution_count": 121,
   "metadata": {},
   "outputs": [],
   "source": [
    "hiddensize = [5, 10, 50, 100, 200, 500]"
   ]
  },
  {
   "cell_type": "code",
   "execution_count": 133,
   "metadata": {},
   "outputs": [
    {
     "name": "stdout",
     "output_type": "stream",
     "text": [
      "When each hiddenlayer size is:  5 The accuracy of the neuron networks for training dataset is:  1.0\n",
      "When each hideenlayer size is:  5 The accuracy of the neuron networks for testing dataset is:  0.8025\n",
      "When each hiddenlayer size is:  10 The accuracy of the neuron networks for training dataset is:  1.0\n",
      "When each hideenlayer size is:  10 The accuracy of the neuron networks for testing dataset is:  0.845\n",
      "When each hiddenlayer size is:  50 The accuracy of the neuron networks for training dataset is:  1.0\n",
      "When each hideenlayer size is:  50 The accuracy of the neuron networks for testing dataset is:  0.86\n",
      "When each hiddenlayer size is:  100 The accuracy of the neuron networks for training dataset is:  1.0\n",
      "When each hideenlayer size is:  100 The accuracy of the neuron networks for testing dataset is:  0.8725\n",
      "When each hiddenlayer size is:  200 The accuracy of the neuron networks for training dataset is:  1.0\n",
      "When each hideenlayer size is:  200 The accuracy of the neuron networks for testing dataset is:  0.865\n",
      "When each hiddenlayer size is:  500 The accuracy of the neuron networks for training dataset is:  1.0\n",
      "When each hideenlayer size is:  500 The accuracy of the neuron networks for testing dataset is:  0.8425\n"
     ]
    }
   ],
   "source": [
    "testing_accuracy = []\n",
    "training_accuracy = []\n",
    "\n",
    "for i in range(len(hiddensize)):\n",
    "    clf = MLPClassifier(activation='identity', alpha=1e-05, batch_size='auto', beta_1=0.9,\n",
    "              beta_2=0.999, early_stopping=False, epsilon=1e-08,\n",
    "              hidden_layer_sizes=(hiddensize[i], hiddensize[i], hiddensize[i]), learning_rate='constant',\n",
    "              learning_rate_init=1e-05, max_iter=1000, momentum=0.9,\n",
    "              n_iter_no_change=10, nesterovs_momentum=True, power_t=0.5,\n",
    "              random_state=1, shuffle=True, solver='lbfgs', tol=0.0001,\n",
    "              validation_fraction=0.1, verbose=False, warm_start=False)\n",
    "    \n",
    "    clf.fit(X_train_std, y_train)\n",
    "\n",
    "    clf_train = clf.score(X_train_std, y_train)\n",
    "    clf_test = clf.score(X_test_std, y_test)\n",
    "    \n",
    "    training_accuracy.append(clf_train)\n",
    "    testing_accuracy.append(clf_test)\n",
    "    \n",
    "    print('When each hiddenlayer size is: ', hiddensize[i], \"The accuracy of the neuron networks for training dataset is: \",clf_train)\n",
    "    print('When each hideenlayer size is: ', hiddensize[i], \"The accuracy of the neuron networks for testing dataset is: \",clf_test)"
   ]
  },
  {
   "cell_type": "code",
   "execution_count": 134,
   "metadata": {},
   "outputs": [
    {
     "data": {
      "image/png": "[encoded data removed]",
      "text/plain": [
       "<Figure size 432x288 with 1 Axes>"
      ]
     },
     "metadata": {
      "needs_background": "light"
     },
     "output_type": "display_data"
    }
   ],
   "source": [
    "import math\n",
    "from matplotlib import pyplot as plt\n",
    "\n",
    "\n",
    "plt.plot(hiddensize, testing_accuracy,'ro-',label='Test accuracy')    \n",
    "plt.plot(hiddensize, training_accuracy,'bo-',label='Training accuracy')    \n",
    "\n",
    "plt.xlabel('hidden layer size',fontsize = 15)\n",
    "plt.ylabel('Percentage',fontsize = 15)\n",
    "plt.show()"
   ]
  },
  {
   "cell_type": "markdown",
   "metadata": {},
   "source": [
    "### Iterations"
   ]
  },
  {
   "cell_type": "code",
   "execution_count": 135,
   "metadata": {},
   "outputs": [],
   "source": [
    "Iterations = [10, 100, 1000, 2000, 5000]"
   ]
  },
  {
   "cell_type": "code",
   "execution_count": 137,
   "metadata": {},
   "outputs": [
    {
     "name": "stdout",
     "output_type": "stream",
     "text": [
      "When max iteration is:  10 The accuracy of the neuron networks for training dataset is:  0.962\n",
      "When max iteration is:  10 The accuracy of the neuron networks for testing dataset is:  0.86\n",
      "When max iteration is:  100 The accuracy of the neuron networks for training dataset is:  1.0\n",
      "When max iteration is:  100 The accuracy of the neuron networks for testing dataset is:  0.8725\n",
      "When max iteration is:  1000 The accuracy of the neuron networks for training dataset is:  1.0\n",
      "When max iteration is:  1000 The accuracy of the neuron networks for testing dataset is:  0.8725\n",
      "When max iteration is:  2000 The accuracy of the neuron networks for training dataset is:  1.0\n",
      "When max iteration is:  2000 The accuracy of the neuron networks for testing dataset is:  0.8725\n",
      "When max iteration is:  5000 The accuracy of the neuron networks for training dataset is:  1.0\n",
      "When max iteration is:  5000 The accuracy of the neuron networks for testing dataset is:  0.8725\n"
     ]
    }
   ],
   "source": [
    "testing_accuracy = []\n",
    "training_accuracy = []\n",
    "\n",
    "for i in range(len(Iterations)):\n",
    "    clf = MLPClassifier(activation='identity', alpha=1e-05, batch_size='auto', beta_1=0.9,\n",
    "              beta_2=0.999, early_stopping=False, epsilon=1e-08,\n",
    "              hidden_layer_sizes=(100, 100, 100), learning_rate='constant',\n",
    "              learning_rate_init=1e-05, max_iter=Iterations[i], momentum=0.9,\n",
    "              n_iter_no_change=10, nesterovs_momentum=True, power_t=0.5,\n",
    "              random_state=1, shuffle=True, solver='lbfgs', tol=0.0001,\n",
    "              validation_fraction=0.1, verbose=False, warm_start=False)\n",
    "    \n",
    "    clf.fit(X_train_std, y_train)\n",
    "\n",
    "    clf_train = clf.score(X_train_std, y_train)\n",
    "    clf_test = clf.score(X_test_std, y_test)\n",
    "    \n",
    "    training_accuracy.append(clf_train)\n",
    "    testing_accuracy.append(clf_test)\n",
    "    \n",
    "    print('When max iteration is: ', Iterations[i], \"The accuracy of the neuron networks for training dataset is: \",clf_train)\n",
    "    print('When max iteration is: ', Iterations[i], \"The accuracy of the neuron networks for testing dataset is: \",clf_test)"
   ]
  },
  {
   "cell_type": "code",
   "execution_count": 138,
   "metadata": {},
   "outputs": [
    {
     "data": {
      "image/png": "[encoded data removed]",
      "text/plain": [
       "<Figure size 432x288 with 1 Axes>"
      ]
     },
     "metadata": {
      "needs_background": "light"
     },
     "output_type": "display_data"
    }
   ],
   "source": [
    "import math\n",
    "from matplotlib import pyplot as plt\n",
    "\n",
    "\n",
    "plt.plot(Iterations, testing_accuracy,'ro-',label='Test accuracy')    \n",
    "plt.plot(Iterations, training_accuracy,'bo-',label='Training accuracy')    \n",
    "\n",
    "plt.xlabel('Iterations',fontsize = 15)\n",
    "plt.ylabel('Percentage',fontsize = 15)\n",
    "plt.show()"
   ]
  },
  {
   "cell_type": "markdown",
   "metadata": {},
   "source": [
    "### 3.4.2 Cross-Validation for neuron networks"
   ]
  },
  {
   "cell_type": "code",
   "execution_count": 16,
   "metadata": {},
   "outputs": [],
   "source": [
    "from sklearn.metrics import accuracy_score\n",
    "n_train = len(X_train_std)\n",
    "k_fold = 8\n",
    "id_train = [[]] * k_fold\n",
    "id_val = [[]] * k_fold\n",
    "\n",
    "for m in range(k_fold):\n",
    "    id_val[m] = range(m, n_train, k_fold) # Indices of k_fold validation sets.\n",
    "    id_train[m] = np.setdiff1d(range(n_train), id_val[m])"
   ]
  },
  {
   "cell_type": "code",
   "execution_count": 18,
   "metadata": {},
   "outputs": [
    {
     "name": "stdout",
     "output_type": "stream",
     "text": [
      "\n",
      " iteration 0\n",
      "Training confusion matrix:\n",
      " [[164   0   0   0   0   0   0   0   0   0]\n",
      " [  0 190   0   0   0   0   0   0   0   0]\n",
      " [  0   0 174   0   0   0   0   0   0   0]\n",
      " [  0   0   0 177   0   0   0   0   0   0]\n",
      " [  0   0   0   0 187   0   0   0   0   0]\n",
      " [  0   0   0   0   0 159   0   0   0   0]\n",
      " [  0   0   0   0   0   0 178   0   0   0]\n",
      " [  0   0   0   0   0   0   0 193   0   0]\n",
      " [  0   0   0   0   0   0   0   0 148   0]\n",
      " [  0   0   0   0   0   0   0   0   0 180]]\n",
      "Training accuracy: 1.0\n",
      "Validation confusion matrix:\n",
      " [[27  0  0  0  0  0  0  0  0  0]\n",
      " [ 0 30  0  0  0  0  0  0  0  0]\n",
      " [ 0  0 24  0  0  0  0  0  0  0]\n",
      " [ 0  0  0 14  0  0  0  0  0  0]\n",
      " [ 0  0  0  0 27  0  0  0  0  0]\n",
      " [ 0  0  0  0  0 21  0  0  0  0]\n",
      " [ 0  0  0  0  0  0 22  0  0  0]\n",
      " [ 0  0  0  0  0  0  0 31  0  0]\n",
      " [ 0  0  0  0  0  0  0  0 24  0]\n",
      " [ 0  0  0  0  0  0  0  0  0 30]]\n",
      "Validation accuracy: 1.0\n",
      "\n",
      " iteration 1\n",
      "Training confusion matrix:\n",
      " [[165   0   0   0   0   0   0   0   0   0]\n",
      " [  0 193   0   0   0   0   0   0   0   0]\n",
      " [  0   0 177   0   0   0   0   0   0   0]\n",
      " [  0   0   0 168   0   0   0   0   0   0]\n",
      " [  0   0   0   0 189   0   0   0   0   0]\n",
      " [  0   0   0   0   0 158   0   0   0   0]\n",
      " [  0   0   0   0   0   0 172   0   0   0]\n",
      " [  0   0   0   0   0   0   0 199   0   0]\n",
      " [  0   0   0   0   0   0   0   0 141   0]\n",
      " [  0   0   0   0   0   0   0   0   0 188]]\n",
      "Training accuracy: 1.0\n",
      "Validation confusion matrix:\n",
      " [[26  0  0  0  0  0  0  0  0  0]\n",
      " [ 0 27  0  0  0  0  0  0  0  0]\n",
      " [ 0  0 21  0  0  0  0  0  0  0]\n",
      " [ 0  0  0 23  0  0  0  0  0  0]\n",
      " [ 0  0  0  0 25  0  0  0  0  0]\n",
      " [ 0  0  0  0  0 22  0  0  0  0]\n",
      " [ 0  0  0  0  0  0 28  0  0  0]\n",
      " [ 0  0  0  0  0  0  0 25  0  0]\n",
      " [ 0  0  0  0  0  0  0  0 31  0]\n",
      " [ 0  0  0  0  0  0  0  0  0 22]]\n",
      "Validation accuracy: 1.0\n",
      "\n",
      " iteration 2\n",
      "Training confusion matrix:\n",
      " [[175   0   0   0   0   0   0   0   0   0]\n",
      " [  0 203   0   0   0   0   0   0   0   0]\n",
      " [  0   0 174   0   0   0   0   0   0   0]\n",
      " [  0   0   0 163   0   0   0   0   0   0]\n",
      " [  0   0   0   0 184   0   0   0   0   0]\n",
      " [  0   0   0   0   0 155   0   0   0   0]\n",
      " [  0   0   0   0   0   0 166   0   0   0]\n",
      " [  0   0   0   0   0   0   0 192   0   0]\n",
      " [  0   0   0   0   0   0   0   0 159   0]\n",
      " [  0   0   0   0   0   0   0   0   0 179]]\n",
      "Training accuracy: 1.0\n",
      "Validation confusion matrix:\n",
      " [[16  0  0  0  0  0  0  0  0  0]\n",
      " [ 0 17  0  0  0  0  0  0  0  0]\n",
      " [ 0  0 24  0  0  0  0  0  0  0]\n",
      " [ 0  0  0 28  0  0  0  0  0  0]\n",
      " [ 0  0  0  0 30  0  0  0  0  0]\n",
      " [ 0  0  0  0  0 25  0  0  0  0]\n",
      " [ 0  0  0  0  0  0 34  0  0  0]\n",
      " [ 0  0  0  0  0  0  0 32  0  0]\n",
      " [ 0  0  0  0  0  0  0  0 13  0]\n",
      " [ 0  0  0  0  0  0  0  0  0 31]]\n",
      "Validation accuracy: 1.0\n",
      "\n",
      " iteration 3\n",
      "Training confusion matrix:\n",
      " [[165   0   0   0   0   0   0   0   0   0]\n",
      " [  0 185   0   0   0   0   0   0   0   0]\n",
      " [  0   0 175   0   0   0   0   0   0   0]\n",
      " [  0   0   0 166   0   0   0   0   0   0]\n",
      " [  0   0   0   0 191   0   0   0   0   0]\n",
      " [  0   0   0   0   0 159   0   0   0   0]\n",
      " [  0   0   0   0   0   0 179   0   0   0]\n",
      " [  0   0   0   0   0   0   0 188   0   0]\n",
      " [  0   0   0   0   0   0   0   0 159   0]\n",
      " [  0   0   0   0   0   0   0   0   0 183]]\n",
      "Training accuracy: 1.0\n",
      "Validation confusion matrix:\n",
      " [[26  0  0  0  0  0  0  0  0  0]\n",
      " [ 0 35  0  0  0  0  0  0  0  0]\n",
      " [ 0  0 23  0  0  0  0  0  0  0]\n",
      " [ 0  0  0 25  0  0  0  0  0  0]\n",
      " [ 0  0  0  0 23  0  0  0  0  0]\n",
      " [ 0  0  0  0  0 21  0  0  0  0]\n",
      " [ 0  0  0  0  0  0 21  0  0  0]\n",
      " [ 0  0  0  0  0  0  0 36  0  0]\n",
      " [ 0  0  0  0  0  0  0  0 13  0]\n",
      " [ 0  0  0  0  0  0  0  0  0 27]]\n",
      "Validation accuracy: 1.0\n",
      "\n",
      " iteration 4\n",
      "Training confusion matrix:\n",
      " [[170   0   0   0   0   0   0   0   0   0]\n",
      " [  0 196   0   0   0   0   0   0   0   0]\n",
      " [  0   0 171   0   0   0   0   0   0   0]\n",
      " [  0   0   0 169   0   0   0   0   0   0]\n",
      " [  0   0   0   0 182   0   0   0   0   0]\n",
      " [  0   0   0   0   0 152   0   0   0   0]\n",
      " [  0   0   0   0   0   0 183   0   0   0]\n",
      " [  0   0   0   0   0   0   0 198   0   0]\n",
      " [  0   0   0   0   0   0   0   0 151   0]\n",
      " [  0   0   0   0   0   0   0   0   0 178]]\n",
      "Training accuracy: 1.0\n",
      "Validation confusion matrix:\n",
      " [[21  0  0  0  0  0  0  0  0  0]\n",
      " [ 0 24  0  0  0  0  0  0  0  0]\n",
      " [ 0  0 27  0  0  0  0  0  0  0]\n",
      " [ 0  0  0 22  0  0  0  0  0  0]\n",
      " [ 0  0  0  0 32  0  0  0  0  0]\n",
      " [ 0  0  0  0  0 28  0  0  0  0]\n",
      " [ 0  0  0  0  0  0 17  0  0  0]\n",
      " [ 0  0  0  0  0  0  0 26  0  0]\n",
      " [ 0  0  0  0  0  0  0  0 21  0]\n",
      " [ 0  0  0  0  0  0  0  0  0 32]]\n",
      "Validation accuracy: 1.0\n",
      "\n",
      " iteration 5\n",
      "Training confusion matrix:\n",
      " [[162   0   0   0   0   0   0   0   0   0]\n",
      " [  0 195   0   0   0   0   0   0   0   0]\n",
      " [  0   0 171   0   0   0   0   0   0   0]\n",
      " [  0   0   0 161   0   0   0   0   0   0]\n",
      " [  0   0   0   0 182   0   0   0   0   0]\n",
      " [  0   0   0   0   0 163   0   0   0   0]\n",
      " [  0   0   0   0   0   0 174   0   0   0]\n",
      " [  0   0   0   0   0   0   0 204   0   0]\n",
      " [  0   0   0   0   0   0   0   0 147   0]\n",
      " [  0   0   0   0   0   0   0   0   0 191]]\n",
      "Training accuracy: 1.0\n",
      "Validation confusion matrix:\n",
      " [[29  0  0  0  0  0  0  0  0  0]\n",
      " [ 0 25  0  0  0  0  0  0  0  0]\n",
      " [ 0  0 27  0  0  0  0  0  0  0]\n",
      " [ 0  0  0 30  0  0  0  0  0  0]\n",
      " [ 0  0  0  0 32  0  0  0  0  0]\n",
      " [ 0  0  0  0  0 17  0  0  0  0]\n",
      " [ 0  0  0  0  0  0 26  0  0  0]\n",
      " [ 0  0  0  0  0  0  0 20  0  0]\n",
      " [ 0  0  0  0  0  0  0  0 25  0]\n",
      " [ 0  0  0  0  0  0  0  0  0 19]]\n",
      "Validation accuracy: 1.0\n",
      "\n",
      " iteration 6\n",
      "Training confusion matrix:\n",
      " [[168   0   0   0   0   0   0   0   0   0]\n",
      " [  0 186   0   0   0   0   0   0   0   0]\n",
      " [  0   0 169   0   0   0   0   0   0   0]\n",
      " [  0   0   0 173   0   0   0   0   0   0]\n",
      " [  0   0   0   0 188   0   0   0   0   0]\n",
      " [  0   0   0   0   0 162   0   0   0   0]\n",
      " [  0   0   0   0   0   0 166   0   0   0]\n",
      " [  0   0   0   0   0   0   0 196   0   0]\n",
      " [  0   0   0   0   0   0   0   0 154   0]\n",
      " [  0   0   0   0   0   0   0   0   0 188]]\n",
      "Training accuracy: 1.0\n",
      "Validation confusion matrix:\n",
      " [[23  0  0  0  0  0  0  0  0  0]\n",
      " [ 0 34  0  0  0  0  0  0  0  0]\n",
      " [ 0  0 29  0  0  0  0  0  0  0]\n",
      " [ 0  0  0 18  0  0  0  0  0  0]\n",
      " [ 0  0  0  0 26  0  0  0  0  0]\n",
      " [ 0  0  0  0  0 18  0  0  0  0]\n",
      " [ 0  0  0  0  0  0 34  0  0  0]\n",
      " [ 0  0  0  0  0  0  0 28  0  0]\n",
      " [ 0  0  0  0  0  0  0  0 18  0]\n",
      " [ 0  0  0  0  0  0  0  0  0 22]]\n",
      "Validation accuracy: 1.0\n",
      "\n",
      " iteration 7\n",
      "Training confusion matrix:\n",
      " [[168   0   0   0   0   0   0   0   0   0]\n",
      " [  0 192   0   0   0   0   0   0   0   0]\n",
      " [  0   0 175   0   0   0   0   0   0   0]\n",
      " [  0   0   0 160   0   0   0   0   0   0]\n",
      " [  0   0   0   0 195   0   0   0   0   0]\n",
      " [  0   0   0   0   0 152   0   0   0   0]\n",
      " [  0   0   0   0   0   0 182   0   0   0]\n",
      " [  0   0   0   0   0   0   0 198   0   0]\n",
      " [  0   0   0   0   0   0   0   0 145   0]\n",
      " [  0   0   0   0   0   0   0   0   0 183]]\n",
      "Training accuracy: 1.0\n",
      "Validation confusion matrix:\n",
      " [[23  0  0  0  0  0  0  0  0  0]\n",
      " [ 0 28  0  0  0  0  0  0  0  0]\n",
      " [ 0  0 23  0  0  0  0  0  0  0]\n",
      " [ 0  0  0 31  0  0  0  0  0  0]\n",
      " [ 0  0  0  0 19  0  0  0  0  0]\n",
      " [ 0  0  0  0  0 28  0  0  0  0]\n",
      " [ 0  0  0  0  0  0 18  0  0  0]\n",
      " [ 0  0  0  0  0  0  0 26  0  0]\n",
      " [ 0  0  0  0  0  0  0  0 27  0]\n",
      " [ 0  0  0  0  0  0  0  0  0 27]]\n",
      "Validation accuracy: 1.0\n"
     ]
    }
   ],
   "source": [
    "CMat_train_best = None\n",
    "CMat_val_best = None\n",
    "acc_train_best = 0\n",
    "acc_val_best = 0\n",
    "model_best = None\n",
    "\n",
    "from sklearn.metrics import confusion_matrix\n",
    "# ConfusionMatrix = np.zeros((2,2), dtype=int)\n",
    "acc_val_best = 0\n",
    "for m in range(k_fold):\n",
    "    print(\"\\n iteration\", m)\n",
    "    X_train_cur = X_train_std[id_train[m]]\n",
    "    y_train_cur = y_train[id_train[m]]\n",
    "    X_val_cur = X_train_std[id_val[m]]\n",
    "    y_val_cur = y_train[id_val[m]]\n",
    "#     print(X_cur.shape, y_cur.shape, X_val_cur.shape, y_val_cur.shape)\n",
    "    \n",
    "#     svc_cur = svm.SVC(kernel='rbf',gamma='auto')\n",
    "#     svc_cur.fit(X_train_cur, y_train_cur)\n",
    "    \n",
    "    clf = MLPClassifier(activation='identity', alpha=1e-05, batch_size='auto', beta_1=0.9,\n",
    "              beta_2=0.999, early_stopping=False, epsilon=1e-08,\n",
    "              hidden_layer_sizes=(100, 100, 100), learning_rate='constant',\n",
    "              learning_rate_init=1e-05, max_iter=1000, momentum=0.9,\n",
    "              n_iter_no_change=10, nesterovs_momentum=True, power_t=0.5,\n",
    "              random_state=1, shuffle=True, solver='lbfgs', tol=0.0001,\n",
    "              validation_fraction=0.1, verbose=False, warm_start=False)\n",
    "    \n",
    "    clf.fit(X_train_std, y_train)\n",
    "    \n",
    "    y_pred_train_cur = clf.predict(X_train_cur)\n",
    "    y_pred_val_cur = clf.predict(X_val_cur)\n",
    "    \n",
    "    CMat_train = confusion_matrix(y_train_cur, y_pred_train_cur)\n",
    "#     acc_train = np.sum(np.diag(CMat_train))/np.shape(X_train_cur)[0]\n",
    "    acc_train = accuracy_score(y_train_cur, y_pred_train_cur)\n",
    "    \n",
    "    CMat_val = confusion_matrix(y_val_cur, y_pred_val_cur)\n",
    "#     acc_val = np.sum(np.diag(CMat_val))/np.shape(X_val_cur)[0]\n",
    "    acc_val = accuracy_score(y_val_cur, y_pred_val_cur)\n",
    "    \n",
    "    if acc_val > acc_val_best:\n",
    "        acc_train_best = acc_train\n",
    "        acc_val_best = acc_val\n",
    "        model_best = clf\n",
    "        CMat_train_best = CMat_train\n",
    "        CMat_val_best = CMat_val\n",
    "    \n",
    "    print(\"Training confusion matrix:\\n\", CMat_train)\n",
    "    print(\"Training accuracy:\", acc_train)\n",
    "    print(\"Validation confusion matrix:\\n\", CMat_val)\n",
    "    print(\"Validation accuracy:\", acc_val)"
   ]
  },
  {
   "cell_type": "code",
   "execution_count": 19,
   "metadata": {},
   "outputs": [
    {
     "name": "stdout",
     "output_type": "stream",
     "text": [
      "Training confusion matrix:\n",
      " [[168   0   0   0   0   0   0   0   0   0]\n",
      " [  0 192   0   0   0   0   0   0   0   0]\n",
      " [  0   0 175   0   0   0   0   0   0   0]\n",
      " [  0   0   0 160   0   0   0   0   0   0]\n",
      " [  0   0   0   0 195   0   0   0   0   0]\n",
      " [  0   0   0   0   0 152   0   0   0   0]\n",
      " [  0   0   0   0   0   0 182   0   0   0]\n",
      " [  0   0   0   0   0   0   0 198   0   0]\n",
      " [  0   0   0   0   0   0   0   0 145   0]\n",
      " [  0   0   0   0   0   0   0   0   0 183]]\n",
      "Training accuracy: 1.0\n",
      "Validation confusion matrix:\n",
      " [[23  0  0  0  0  0  0  0  0  0]\n",
      " [ 0 28  0  0  0  0  0  0  0  0]\n",
      " [ 0  0 23  0  0  0  0  0  0  0]\n",
      " [ 0  0  0 31  0  0  0  0  0  0]\n",
      " [ 0  0  0  0 19  0  0  0  0  0]\n",
      " [ 0  0  0  0  0 28  0  0  0  0]\n",
      " [ 0  0  0  0  0  0 18  0  0  0]\n",
      " [ 0  0  0  0  0  0  0 26  0  0]\n",
      " [ 0  0  0  0  0  0  0  0 27  0]\n",
      " [ 0  0  0  0  0  0  0  0  0 27]]\n",
      "Validation accuracy: 1.0\n"
     ]
    }
   ],
   "source": [
    "print(\"Training confusion matrix:\\n\", CMat_train)\n",
    "print(\"Training accuracy:\", acc_train)\n",
    "print(\"Validation confusion matrix:\\n\", CMat_val)\n",
    "print(\"Validation accuracy:\", acc_val)"
   ]
  },
  {
   "cell_type": "code",
   "execution_count": 20,
   "metadata": {},
   "outputs": [
    {
     "name": "stdout",
     "output_type": "stream",
     "text": [
      "The accuracy of the best SVM model after cross-validation is 0.8725.\n"
     ]
    }
   ],
   "source": [
    "y_predict = model_best.predict(X_test_std)\n",
    "print(\"The accuracy of the best SVM model after cross-validation is {}.\".format(accuracy_score(y_test, y_predict)))"
   ]
  },
  {
   "cell_type": "code",
   "execution_count": null,
   "metadata": {},
   "outputs": [],
   "source": []
  }
 ],
 "metadata": {
  "kernelspec": {
   "display_name": "Python 3",
   "language": "python",
   "name": "python3"
  },
  "language_info": {
   "codemirror_mode": {
    "name": "ipython",
    "version": 3
   },
   "file_extension": ".py",
   "mimetype": "text/x-python",
   "name": "python",
   "nbconvert_exporter": "python",
   "pygments_lexer": "ipython3",
   "version": "3.7.4"
  }
 },
 "nbformat": 4,
 "nbformat_minor": 2
}
